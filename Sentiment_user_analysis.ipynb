{
 "cells": [
  {
   "cell_type": "code",
   "execution_count": 8,
   "metadata": {},
   "outputs": [],
   "source": [
    "from transformers import AutoModelForSequenceClassification\n",
    "from transformers import TFAutoModelForSequenceClassification\n",
    "from transformers import AutoTokenizer\n",
    "from tqdm import tqdm\n",
    "import numpy as np\n",
    "import pandas as pd\n",
    "from scipy.special import softmax\n",
    "import csv\n",
    "import urllib.request"
   ]
  },
  {
   "cell_type": "markdown",
   "metadata": {},
   "source": [
    "# Load CSV file and create DataFrame of Discord chat\n"
   ]
  },
  {
   "cell_type": "code",
   "execution_count": 75,
   "metadata": {},
   "outputs": [
    {
     "data": {
      "text/html": [
       "<div>\n",
       "<style scoped>\n",
       "    .dataframe tbody tr th:only-of-type {\n",
       "        vertical-align: middle;\n",
       "    }\n",
       "\n",
       "    .dataframe tbody tr th {\n",
       "        vertical-align: top;\n",
       "    }\n",
       "\n",
       "    .dataframe thead th {\n",
       "        text-align: right;\n",
       "    }\n",
       "</style>\n",
       "<table border=\"1\" class=\"dataframe\">\n",
       "  <thead>\n",
       "    <tr style=\"text-align: right;\">\n",
       "      <th></th>\n",
       "      <th>AuthorID</th>\n",
       "      <th>Author</th>\n",
       "      <th>Date</th>\n",
       "      <th>Content</th>\n",
       "      <th>Attachments</th>\n",
       "      <th>Reactions</th>\n",
       "    </tr>\n",
       "  </thead>\n",
       "  <tbody>\n",
       "    <tr>\n",
       "      <th>0</th>\n",
       "      <td>370963041141129226</td>\n",
       "      <td>Daiigr#7964</td>\n",
       "      <td>02-Jul-20 08:53 PM</td>\n",
       "      <td>who wants to play something?</td>\n",
       "      <td>NaN</td>\n",
       "      <td>NaN</td>\n",
       "    </tr>\n",
       "    <tr>\n",
       "      <th>1</th>\n",
       "      <td>607796009707372554</td>\n",
       "      <td>Emo Knightmare#5231</td>\n",
       "      <td>02-Jul-20 10:17 PM</td>\n",
       "      <td>Sorry fam no gaming after 8 PM courtesy of my ...</td>\n",
       "      <td>NaN</td>\n",
       "      <td>NaN</td>\n",
       "    </tr>\n",
       "    <tr>\n",
       "      <th>2</th>\n",
       "      <td>370963041141129226</td>\n",
       "      <td>Daiigr#7964</td>\n",
       "      <td>03-Jul-20 12:26 AM</td>\n",
       "      <td>Oof</td>\n",
       "      <td>NaN</td>\n",
       "      <td>NaN</td>\n",
       "    </tr>\n",
       "    <tr>\n",
       "      <th>3</th>\n",
       "      <td>537937247891357697</td>\n",
       "      <td>The Dark Soul#7970</td>\n",
       "      <td>03-Jul-20 12:31 AM</td>\n",
       "      <td>big sad</td>\n",
       "      <td>NaN</td>\n",
       "      <td>NaN</td>\n",
       "    </tr>\n",
       "    <tr>\n",
       "      <th>4</th>\n",
       "      <td>503221991717863424</td>\n",
       "      <td>LET ME IN!!!#0749</td>\n",
       "      <td>03-Jul-20 01:14 AM</td>\n",
       "      <td>If anyone here plays DBD and wants to have som...</td>\n",
       "      <td>NaN</td>\n",
       "      <td>NaN</td>\n",
       "    </tr>\n",
       "  </tbody>\n",
       "</table>\n",
       "</div>"
      ],
      "text/plain": [
       "             AuthorID               Author                Date  \\\n",
       "0  370963041141129226          Daiigr#7964  02-Jul-20 08:53 PM   \n",
       "1  607796009707372554  Emo Knightmare#5231  02-Jul-20 10:17 PM   \n",
       "2  370963041141129226          Daiigr#7964  03-Jul-20 12:26 AM   \n",
       "3  537937247891357697   The Dark Soul#7970  03-Jul-20 12:31 AM   \n",
       "4  503221991717863424    LET ME IN!!!#0749  03-Jul-20 01:14 AM   \n",
       "\n",
       "                                             Content Attachments Reactions  \n",
       "0                       who wants to play something?         NaN       NaN  \n",
       "1  Sorry fam no gaming after 8 PM courtesy of my ...         NaN       NaN  \n",
       "2                                                Oof         NaN       NaN  \n",
       "3                                            big sad         NaN       NaN  \n",
       "4  If anyone here plays DBD and wants to have som...         NaN       NaN  "
      ]
     },
     "execution_count": 75,
     "metadata": {},
     "output_type": "execute_result"
    }
   ],
   "source": [
    "data = pd.read_csv(\"DiscordData(aug).csv\")\n",
    "data.head()"
   ]
  },
  {
   "cell_type": "markdown",
   "metadata": {},
   "source": [
    "# Filtering Message for Use for Sentiment \n",
    "## removing bot messages"
   ]
  },
  {
   "cell_type": "code",
   "execution_count": 45,
   "metadata": {},
   "outputs": [
    {
     "name": "stdout",
     "output_type": "stream",
     "text": [
      "['Daiigr#7964' 'Emo Knightmare#5231' 'The Dark Soul#7970'\n",
      " 'LET ME IN!!!#0749' 'PETTAPLAY#7395' 'kima#1596' 'haani_05#5594'\n",
      " 'Deleted User#0000' 'existential.duck#5117' 'Eeugh#0033'\n",
      " 'Master chief#7460' 'KyroGaming#1987' 'soumar#3751' 'Iann#4893'\n",
      " 'Haruka Sakura#2591' 'schrimpf#2940' 'Dwonks#8334' 'hagha#2602'\n",
      " 'carlitos#1736' 'rY4n#8975' 'seafox2205#6878' 'Father#2152'\n",
      " 'XxEXO_TROOPERxX#8603' \"I'll do my best#9945\" 'Peachymango11#3226'\n",
      " 'lana#8237' 'sofia719462#2756' '(G)raveyard #dear-god#0000' 'Son#9990'\n",
      " 'Lord Lazinga#7942' 'neurotell#9825' 'i have name#0161' 'Caitlin#6324']\n",
      "187600\n",
      "184938\n"
     ]
    }
   ],
   "source": [
    "cleaned_data = data\n",
    "\n",
    "cleaned_data = cleaned_data.drop(cleaned_data[cleaned_data['Author'] == 'Rythm#3722'].index)\n",
    "\n",
    "cleaned_data = cleaned_data.drop(cleaned_data[cleaned_data['Author'] == 'Loli Police#5803'].index)\n",
    "\n",
    "cleaned_data = cleaned_data.drop(cleaned_data[cleaned_data['Author'] == 'Cool Frog Facts #frogs#0000'].index)\n",
    "\n",
    "cleaned_data = cleaned_data.drop(cleaned_data[cleaned_data['Author'] == 'Minecaft Bot#1886'].index)\n",
    "\n",
    "cleaned_data = cleaned_data.drop(cleaned_data[cleaned_data['Author'] == 'Dank Memer#5192' ].index)\n",
    "\n",
    "cleaned_data = cleaned_data.drop(cleaned_data[cleaned_data['Author'] == 'Simple Poll#9879' ].index)\n",
    "\n",
    "cleaned_data = cleaned_data.drop(cleaned_data[cleaned_data['Author'] == 'UnoBot#6134' ].index)\n",
    "\n",
    "cleaned_data = cleaned_data.drop(cleaned_data[cleaned_data['Author'] == 'MEE6#4876' ].index)\n",
    "\n",
    "cleaned_data = cleaned_data.drop(cleaned_data[cleaned_data['Author'] == 'Daiigr AI#4911' ].index)\n",
    "\n",
    "\n",
    "print(cleaned_data['Author'].unique())\n",
    "\n",
    "print(len(data))\n",
    "print(len(cleaned_data))"
   ]
  },
  {
   "cell_type": "markdown",
   "metadata": {},
   "source": [
    "# Preprocess text (username and link placeholders)\n"
   ]
  },
  {
   "cell_type": "code",
   "execution_count": 11,
   "metadata": {},
   "outputs": [],
   "source": [
    "def preprocess(text):\n",
    "    new_text = []\n",
    " \n",
    " \n",
    "    for t in text.split(\" \"):\n",
    "        t = '@user' if t.startswith('@') and len(t) > 1 else t\n",
    "        t = 'http' if t.startswith('http') else t\n",
    "        new_text.append(t)\n",
    "    return \" \".join(new_text)"
   ]
  },
  {
   "cell_type": "markdown",
   "metadata": {},
   "source": [
    "# Tasks:\n",
    "emoji, emotion, hate, irony, offensive, sentiment\n",
    "stance/abortion, stance/atheism, stance/climate, stance/feminist, stance/hillary\n"
   ]
  },
  {
   "cell_type": "code",
   "execution_count": 12,
   "metadata": {},
   "outputs": [],
   "source": [
    "task='sentiment'\n",
    "MODEL = f\"cardiffnlp/twitter-roberta-base-{task}\"\n",
    "\n",
    "tokenizer = AutoTokenizer.from_pretrained(MODEL)"
   ]
  },
  {
   "cell_type": "code",
   "execution_count": 13,
   "metadata": {},
   "outputs": [],
   "source": [
    "model = AutoModelForSequenceClassification.from_pretrained(MODEL)\n",
    "model.save_pretrained(MODEL)"
   ]
  },
  {
   "cell_type": "markdown",
   "metadata": {},
   "source": [
    "# download label mapping"
   ]
  },
  {
   "cell_type": "code",
   "execution_count": 14,
   "metadata": {},
   "outputs": [],
   "source": [
    "labels=[]\n",
    "mapping_link = f\"https://raw.githubusercontent.com/cardiffnlp/tweeteval/main/datasets/{task}/mapping.txt\"\n",
    "with urllib.request.urlopen(mapping_link) as f:\n",
    "    html = f.read().decode('utf-8').split(\"\\n\")\n",
    "    csvreader = csv.reader(html, delimiter='\\t')\n",
    "labels = [row[1] for row in csvreader if len(row) > 1]"
   ]
  },
  {
   "cell_type": "code",
   "execution_count": 15,
   "metadata": {},
   "outputs": [],
   "source": [
    "def listToString(instr):\n",
    "        emptystr=\"\"\n",
    "        for ele in instr: \n",
    "            emptystr += ele + \" \"\n",
    "        return emptystr"
   ]
  },
  {
   "cell_type": "markdown",
   "metadata": {},
   "source": [
    "# Sampling Dataset and Averaging Sentiment"
   ]
  },
  {
   "cell_type": "markdown",
   "metadata": {},
   "source": [
    "## Exploring our Data "
   ]
  },
  {
   "cell_type": "markdown",
   "metadata": {},
   "source": [
    "lets look how many messages each user has sent in this discord server. later on we will use this data to see if there is any corrolation between average sentiment and user messages"
   ]
  },
  {
   "cell_type": "code",
   "execution_count": 74,
   "metadata": {},
   "outputs": [
    {
     "name": "stdout",
     "output_type": "stream",
     "text": [
      "[0.96235037 0.03444532 0.00320427]\n"
     ]
    }
   ],
   "source": [
    "dugansToxicMessage = 'Children Death Slaves kill suicide'\n",
    "text = dugansToxicMessage\n",
    "text = preprocess(text)\n",
    "encoded_input = tokenizer(text, return_tensors='pt')\n",
    "output = model(**encoded_input)\n",
    "scores = output[0][0].detach().numpy()\n",
    "score = softmax(scores)\n",
    "print(score)"
   ]
  },
  {
   "cell_type": "code",
   "execution_count": 55,
   "metadata": {},
   "outputs": [
    {
     "name": "stderr",
     "output_type": "stream",
     "text": [
      "100%|██████████| 42/42 [00:00<00:00, 137.60it/s]"
     ]
    },
    {
     "name": "stdout",
     "output_type": "stream",
     "text": [
      "[['Daiigr#7964', 324422], ['Emo Knightmare#5231', 216569], ['The Dark Soul#7970', 438301], ['LET ME IN!!!#0749', 176232], ['PETTAPLAY#7395', 1402278], ['kima#1596', 516], ['haani_05#5594', 11812], ['Deleted User#0000', 266713], ['existential.duck#5117', 225664], ['Eeugh#0033', 105], ['Master chief#7460', 7660], ['KyroGaming#1987', 41], ['soumar#3751', 269466], ['Iann#4893', 196510], ['Haruka Sakura#2591', 3493], ['schrimpf#2940', 106346], ['Dwonks#8334', 149145], ['Rythm#3722', 41893], ['hagha#2602', 73], ['carlitos#1736', 477115], ['rY4n#8975', 20], ['seafox2205#6878', 653330], ['MEE6#4876', 1289], ['Daiigr AI#4911', 4617], ['Father#2152', 702457], ['XxEXO_TROOPERxX#8603', 166], [\"I'll do my best#9945\", 53317], ['Simple Poll#9879', 113], ['Peachymango11#3226', 901], ['Minecaft Bot#1886', 8359], ['lana#8237', 140], ['sofia719462#2756', 739], ['UnoBot#6134', 18], ['(G)raveyard #dear-god#0000', 1391], ['Son#9990', 344], ['Loli Police#5803', 31055], ['Dank Memer#5192', 1435], ['Lord Lazinga#7942', 97], ['neurotell#9825', 1412], ['i have name#0161', 472], ['Cool Frog Facts #frogs#0000', 2447], ['Caitlin#6324', 589]]\n"
     ]
    },
    {
     "name": "stderr",
     "output_type": "stream",
     "text": [
      "\n"
     ]
    }
   ],
   "source": [
    "shittypeople = []\n",
    "for Author in tqdm(data['Author'].unique()):\n",
    "    totalCharactersSent = 0\n",
    "    usermessage = data[data['Author'] == Author]\n",
    "    usermessage = usermessage['Content'].copy()\n",
    "    usermessage = usermessage.values\n",
    "    for message in usermessage:\n",
    "        totalCharactersSent += len(str(message))\n",
    "    array = [Author, totalCharactersSent]\n",
    "    shittypeople.append(array)\n",
    "\n",
    "print(shittypeople)\n"
   ]
  },
  {
   "cell_type": "code",
   "execution_count": 56,
   "metadata": {},
   "outputs": [
    {
     "data": {
      "application/vnd.plotly.v1+json": {
       "config": {
        "plotlyServerURL": "https://plot.ly"
       },
       "data": [
        {
         "alignmentgroup": "True",
         "hovertemplate": "Author=%{x}<br>Size=%{y}<extra></extra>",
         "legendgroup": "",
         "marker": {
          "color": "rgb(127, 60, 141)",
          "pattern": {
           "shape": ""
          }
         },
         "name": "",
         "offsetgroup": "",
         "orientation": "v",
         "showlegend": false,
         "textposition": "auto",
         "type": "bar",
         "x": [
          "UnoBot#6134",
          "rY4n#8975",
          "KyroGaming#1987",
          "hagha#2602",
          "Lord Lazinga#7942",
          "Eeugh#0033",
          "Simple Poll#9879",
          "lana#8237",
          "XxEXO_TROOPERxX#8603",
          "Son#9990",
          "i have name#0161",
          "kima#1596",
          "Caitlin#6324",
          "sofia719462#2756",
          "Peachymango11#3226",
          "MEE6#4876",
          "(G)raveyard #dear-god#0000",
          "neurotell#9825",
          "Dank Memer#5192",
          "Cool Frog Facts #frogs#0000",
          "Haruka Sakura#2591",
          "Daiigr AI#4911",
          "Master chief#7460",
          "Minecaft Bot#1886",
          "haani_05#5594",
          "Loli Police#5803",
          "Rythm#3722",
          "I'll do my best#9945",
          "schrimpf#2940",
          "Dwonks#8334",
          "LET ME IN!!!#0749",
          "Iann#4893",
          "Emo Knightmare#5231",
          "existential.duck#5117",
          "Deleted User#0000",
          "soumar#3751",
          "Daiigr#7964",
          "The Dark Soul#7970",
          "carlitos#1736",
          "seafox2205#6878",
          "Father#2152",
          "PETTAPLAY#7395"
         ],
         "xaxis": "x",
         "y": [
          18,
          20,
          41,
          73,
          97,
          105,
          113,
          140,
          166,
          344,
          472,
          516,
          589,
          739,
          901,
          1289,
          1391,
          1412,
          1435,
          2447,
          3493,
          4617,
          7660,
          8359,
          11812,
          31055,
          41893,
          53317,
          106346,
          149145,
          176232,
          196510,
          216569,
          225664,
          266713,
          269466,
          324422,
          438301,
          477115,
          653330,
          702457,
          1402278
         ],
         "yaxis": "y"
        }
       ],
       "layout": {
        "barmode": "relative",
        "legend": {
         "tracegroupgap": 0
        },
        "template": {
         "data": {
          "bar": [
           {
            "error_x": {
             "color": "#f2f5fa"
            },
            "error_y": {
             "color": "#f2f5fa"
            },
            "marker": {
             "line": {
              "color": "rgb(17,17,17)",
              "width": 0.5
             },
             "pattern": {
              "fillmode": "overlay",
              "size": 10,
              "solidity": 0.2
             }
            },
            "type": "bar"
           }
          ],
          "barpolar": [
           {
            "marker": {
             "line": {
              "color": "rgb(17,17,17)",
              "width": 0.5
             },
             "pattern": {
              "fillmode": "overlay",
              "size": 10,
              "solidity": 0.2
             }
            },
            "type": "barpolar"
           }
          ],
          "carpet": [
           {
            "aaxis": {
             "endlinecolor": "#A2B1C6",
             "gridcolor": "#506784",
             "linecolor": "#506784",
             "minorgridcolor": "#506784",
             "startlinecolor": "#A2B1C6"
            },
            "baxis": {
             "endlinecolor": "#A2B1C6",
             "gridcolor": "#506784",
             "linecolor": "#506784",
             "minorgridcolor": "#506784",
             "startlinecolor": "#A2B1C6"
            },
            "type": "carpet"
           }
          ],
          "choropleth": [
           {
            "colorbar": {
             "outlinewidth": 0,
             "ticks": ""
            },
            "type": "choropleth"
           }
          ],
          "contour": [
           {
            "colorbar": {
             "outlinewidth": 0,
             "ticks": ""
            },
            "colorscale": [
             [
              0,
              "#0d0887"
             ],
             [
              0.1111111111111111,
              "#46039f"
             ],
             [
              0.2222222222222222,
              "#7201a8"
             ],
             [
              0.3333333333333333,
              "#9c179e"
             ],
             [
              0.4444444444444444,
              "#bd3786"
             ],
             [
              0.5555555555555556,
              "#d8576b"
             ],
             [
              0.6666666666666666,
              "#ed7953"
             ],
             [
              0.7777777777777778,
              "#fb9f3a"
             ],
             [
              0.8888888888888888,
              "#fdca26"
             ],
             [
              1,
              "#f0f921"
             ]
            ],
            "type": "contour"
           }
          ],
          "contourcarpet": [
           {
            "colorbar": {
             "outlinewidth": 0,
             "ticks": ""
            },
            "type": "contourcarpet"
           }
          ],
          "heatmap": [
           {
            "colorbar": {
             "outlinewidth": 0,
             "ticks": ""
            },
            "colorscale": [
             [
              0,
              "#0d0887"
             ],
             [
              0.1111111111111111,
              "#46039f"
             ],
             [
              0.2222222222222222,
              "#7201a8"
             ],
             [
              0.3333333333333333,
              "#9c179e"
             ],
             [
              0.4444444444444444,
              "#bd3786"
             ],
             [
              0.5555555555555556,
              "#d8576b"
             ],
             [
              0.6666666666666666,
              "#ed7953"
             ],
             [
              0.7777777777777778,
              "#fb9f3a"
             ],
             [
              0.8888888888888888,
              "#fdca26"
             ],
             [
              1,
              "#f0f921"
             ]
            ],
            "type": "heatmap"
           }
          ],
          "heatmapgl": [
           {
            "colorbar": {
             "outlinewidth": 0,
             "ticks": ""
            },
            "colorscale": [
             [
              0,
              "#0d0887"
             ],
             [
              0.1111111111111111,
              "#46039f"
             ],
             [
              0.2222222222222222,
              "#7201a8"
             ],
             [
              0.3333333333333333,
              "#9c179e"
             ],
             [
              0.4444444444444444,
              "#bd3786"
             ],
             [
              0.5555555555555556,
              "#d8576b"
             ],
             [
              0.6666666666666666,
              "#ed7953"
             ],
             [
              0.7777777777777778,
              "#fb9f3a"
             ],
             [
              0.8888888888888888,
              "#fdca26"
             ],
             [
              1,
              "#f0f921"
             ]
            ],
            "type": "heatmapgl"
           }
          ],
          "histogram": [
           {
            "marker": {
             "pattern": {
              "fillmode": "overlay",
              "size": 10,
              "solidity": 0.2
             }
            },
            "type": "histogram"
           }
          ],
          "histogram2d": [
           {
            "colorbar": {
             "outlinewidth": 0,
             "ticks": ""
            },
            "colorscale": [
             [
              0,
              "#0d0887"
             ],
             [
              0.1111111111111111,
              "#46039f"
             ],
             [
              0.2222222222222222,
              "#7201a8"
             ],
             [
              0.3333333333333333,
              "#9c179e"
             ],
             [
              0.4444444444444444,
              "#bd3786"
             ],
             [
              0.5555555555555556,
              "#d8576b"
             ],
             [
              0.6666666666666666,
              "#ed7953"
             ],
             [
              0.7777777777777778,
              "#fb9f3a"
             ],
             [
              0.8888888888888888,
              "#fdca26"
             ],
             [
              1,
              "#f0f921"
             ]
            ],
            "type": "histogram2d"
           }
          ],
          "histogram2dcontour": [
           {
            "colorbar": {
             "outlinewidth": 0,
             "ticks": ""
            },
            "colorscale": [
             [
              0,
              "#0d0887"
             ],
             [
              0.1111111111111111,
              "#46039f"
             ],
             [
              0.2222222222222222,
              "#7201a8"
             ],
             [
              0.3333333333333333,
              "#9c179e"
             ],
             [
              0.4444444444444444,
              "#bd3786"
             ],
             [
              0.5555555555555556,
              "#d8576b"
             ],
             [
              0.6666666666666666,
              "#ed7953"
             ],
             [
              0.7777777777777778,
              "#fb9f3a"
             ],
             [
              0.8888888888888888,
              "#fdca26"
             ],
             [
              1,
              "#f0f921"
             ]
            ],
            "type": "histogram2dcontour"
           }
          ],
          "mesh3d": [
           {
            "colorbar": {
             "outlinewidth": 0,
             "ticks": ""
            },
            "type": "mesh3d"
           }
          ],
          "parcoords": [
           {
            "line": {
             "colorbar": {
              "outlinewidth": 0,
              "ticks": ""
             }
            },
            "type": "parcoords"
           }
          ],
          "pie": [
           {
            "automargin": true,
            "type": "pie"
           }
          ],
          "scatter": [
           {
            "marker": {
             "line": {
              "color": "#283442"
             }
            },
            "type": "scatter"
           }
          ],
          "scatter3d": [
           {
            "line": {
             "colorbar": {
              "outlinewidth": 0,
              "ticks": ""
             }
            },
            "marker": {
             "colorbar": {
              "outlinewidth": 0,
              "ticks": ""
             }
            },
            "type": "scatter3d"
           }
          ],
          "scattercarpet": [
           {
            "marker": {
             "colorbar": {
              "outlinewidth": 0,
              "ticks": ""
             }
            },
            "type": "scattercarpet"
           }
          ],
          "scattergeo": [
           {
            "marker": {
             "colorbar": {
              "outlinewidth": 0,
              "ticks": ""
             }
            },
            "type": "scattergeo"
           }
          ],
          "scattergl": [
           {
            "marker": {
             "line": {
              "color": "#283442"
             }
            },
            "type": "scattergl"
           }
          ],
          "scattermapbox": [
           {
            "marker": {
             "colorbar": {
              "outlinewidth": 0,
              "ticks": ""
             }
            },
            "type": "scattermapbox"
           }
          ],
          "scatterpolar": [
           {
            "marker": {
             "colorbar": {
              "outlinewidth": 0,
              "ticks": ""
             }
            },
            "type": "scatterpolar"
           }
          ],
          "scatterpolargl": [
           {
            "marker": {
             "colorbar": {
              "outlinewidth": 0,
              "ticks": ""
             }
            },
            "type": "scatterpolargl"
           }
          ],
          "scatterternary": [
           {
            "marker": {
             "colorbar": {
              "outlinewidth": 0,
              "ticks": ""
             }
            },
            "type": "scatterternary"
           }
          ],
          "surface": [
           {
            "colorbar": {
             "outlinewidth": 0,
             "ticks": ""
            },
            "colorscale": [
             [
              0,
              "#0d0887"
             ],
             [
              0.1111111111111111,
              "#46039f"
             ],
             [
              0.2222222222222222,
              "#7201a8"
             ],
             [
              0.3333333333333333,
              "#9c179e"
             ],
             [
              0.4444444444444444,
              "#bd3786"
             ],
             [
              0.5555555555555556,
              "#d8576b"
             ],
             [
              0.6666666666666666,
              "#ed7953"
             ],
             [
              0.7777777777777778,
              "#fb9f3a"
             ],
             [
              0.8888888888888888,
              "#fdca26"
             ],
             [
              1,
              "#f0f921"
             ]
            ],
            "type": "surface"
           }
          ],
          "table": [
           {
            "cells": {
             "fill": {
              "color": "#506784"
             },
             "line": {
              "color": "rgb(17,17,17)"
             }
            },
            "header": {
             "fill": {
              "color": "#2a3f5f"
             },
             "line": {
              "color": "rgb(17,17,17)"
             }
            },
            "type": "table"
           }
          ]
         },
         "layout": {
          "annotationdefaults": {
           "arrowcolor": "#f2f5fa",
           "arrowhead": 0,
           "arrowwidth": 1
          },
          "autotypenumbers": "strict",
          "coloraxis": {
           "colorbar": {
            "outlinewidth": 0,
            "ticks": ""
           }
          },
          "colorscale": {
           "diverging": [
            [
             0,
             "#8e0152"
            ],
            [
             0.1,
             "#c51b7d"
            ],
            [
             0.2,
             "#de77ae"
            ],
            [
             0.3,
             "#f1b6da"
            ],
            [
             0.4,
             "#fde0ef"
            ],
            [
             0.5,
             "#f7f7f7"
            ],
            [
             0.6,
             "#e6f5d0"
            ],
            [
             0.7,
             "#b8e186"
            ],
            [
             0.8,
             "#7fbc41"
            ],
            [
             0.9,
             "#4d9221"
            ],
            [
             1,
             "#276419"
            ]
           ],
           "sequential": [
            [
             0,
             "#0d0887"
            ],
            [
             0.1111111111111111,
             "#46039f"
            ],
            [
             0.2222222222222222,
             "#7201a8"
            ],
            [
             0.3333333333333333,
             "#9c179e"
            ],
            [
             0.4444444444444444,
             "#bd3786"
            ],
            [
             0.5555555555555556,
             "#d8576b"
            ],
            [
             0.6666666666666666,
             "#ed7953"
            ],
            [
             0.7777777777777778,
             "#fb9f3a"
            ],
            [
             0.8888888888888888,
             "#fdca26"
            ],
            [
             1,
             "#f0f921"
            ]
           ],
           "sequentialminus": [
            [
             0,
             "#0d0887"
            ],
            [
             0.1111111111111111,
             "#46039f"
            ],
            [
             0.2222222222222222,
             "#7201a8"
            ],
            [
             0.3333333333333333,
             "#9c179e"
            ],
            [
             0.4444444444444444,
             "#bd3786"
            ],
            [
             0.5555555555555556,
             "#d8576b"
            ],
            [
             0.6666666666666666,
             "#ed7953"
            ],
            [
             0.7777777777777778,
             "#fb9f3a"
            ],
            [
             0.8888888888888888,
             "#fdca26"
            ],
            [
             1,
             "#f0f921"
            ]
           ]
          },
          "colorway": [
           "#636efa",
           "#EF553B",
           "#00cc96",
           "#ab63fa",
           "#FFA15A",
           "#19d3f3",
           "#FF6692",
           "#B6E880",
           "#FF97FF",
           "#FECB52"
          ],
          "font": {
           "color": "#f2f5fa"
          },
          "geo": {
           "bgcolor": "rgb(17,17,17)",
           "lakecolor": "rgb(17,17,17)",
           "landcolor": "rgb(17,17,17)",
           "showlakes": true,
           "showland": true,
           "subunitcolor": "#506784"
          },
          "hoverlabel": {
           "align": "left"
          },
          "hovermode": "closest",
          "mapbox": {
           "style": "dark"
          },
          "paper_bgcolor": "rgb(17,17,17)",
          "plot_bgcolor": "rgb(17,17,17)",
          "polar": {
           "angularaxis": {
            "gridcolor": "#506784",
            "linecolor": "#506784",
            "ticks": ""
           },
           "bgcolor": "rgb(17,17,17)",
           "radialaxis": {
            "gridcolor": "#506784",
            "linecolor": "#506784",
            "ticks": ""
           }
          },
          "scene": {
           "xaxis": {
            "backgroundcolor": "rgb(17,17,17)",
            "gridcolor": "#506784",
            "gridwidth": 2,
            "linecolor": "#506784",
            "showbackground": true,
            "ticks": "",
            "zerolinecolor": "#C8D4E3"
           },
           "yaxis": {
            "backgroundcolor": "rgb(17,17,17)",
            "gridcolor": "#506784",
            "gridwidth": 2,
            "linecolor": "#506784",
            "showbackground": true,
            "ticks": "",
            "zerolinecolor": "#C8D4E3"
           },
           "zaxis": {
            "backgroundcolor": "rgb(17,17,17)",
            "gridcolor": "#506784",
            "gridwidth": 2,
            "linecolor": "#506784",
            "showbackground": true,
            "ticks": "",
            "zerolinecolor": "#C8D4E3"
           }
          },
          "shapedefaults": {
           "line": {
            "color": "#f2f5fa"
           }
          },
          "sliderdefaults": {
           "bgcolor": "#C8D4E3",
           "bordercolor": "rgb(17,17,17)",
           "borderwidth": 1,
           "tickwidth": 0
          },
          "ternary": {
           "aaxis": {
            "gridcolor": "#506784",
            "linecolor": "#506784",
            "ticks": ""
           },
           "baxis": {
            "gridcolor": "#506784",
            "linecolor": "#506784",
            "ticks": ""
           },
           "bgcolor": "rgb(17,17,17)",
           "caxis": {
            "gridcolor": "#506784",
            "linecolor": "#506784",
            "ticks": ""
           }
          },
          "title": {
           "x": 0.05
          },
          "updatemenudefaults": {
           "bgcolor": "#506784",
           "borderwidth": 0
          },
          "xaxis": {
           "automargin": true,
           "gridcolor": "#283442",
           "linecolor": "#506784",
           "ticks": "",
           "title": {
            "standoff": 15
           },
           "zerolinecolor": "#283442",
           "zerolinewidth": 2
          },
          "yaxis": {
           "automargin": true,
           "gridcolor": "#283442",
           "linecolor": "#506784",
           "ticks": "",
           "title": {
            "standoff": 15
           },
           "zerolinecolor": "#283442",
           "zerolinewidth": 2
          }
         }
        },
        "title": {
         "text": "Average Sentiment for Each User"
        },
        "xaxis": {
         "anchor": "y",
         "domain": [
          0,
          1
         ],
         "title": {
          "text": "Author"
         }
        },
        "yaxis": {
         "anchor": "x",
         "domain": [
          0,
          1
         ],
         "title": {
          "text": "Size"
         }
        }
       }
      }
     },
     "metadata": {},
     "output_type": "display_data"
    }
   ],
   "source": [
    "import plotly.express as px\n",
    "\n",
    "df = pd.DataFrame(shittypeople, columns = ['Author','Size'])\n",
    "df.sort_values(by=['Size'], inplace=True)\n",
    "\n",
    "fig = px.bar(df, x='Author', y='Size',\n",
    "                template = \"plotly_dark\",\n",
    "                color_discrete_sequence=px.colors.qualitative.Bold, title='Average Sentiment for Each User')\n",
    "fig.show()"
   ]
  },
  {
   "cell_type": "code",
   "execution_count": 21,
   "metadata": {},
   "outputs": [
    {
     "name": "stderr",
     "output_type": "stream",
     "text": [
      "100%|██████████| 33/33 [01:53<00:00,  3.44s/it]"
     ]
    },
    {
     "name": "stdout",
     "output_type": "stream",
     "text": [
      "[['Daiigr#7964', 0.26648533, 0.51279277, 0.22072193, 100], ['Emo Knightmare#5231', 0.31001696, 0.481238, 0.20874508, 100], ['The Dark Soul#7970', 0.27249047, 0.5343359, 0.19317345, 100], ['LET ME IN!!!#0749', 0.30158666, 0.48952883, 0.2088845, 100], ['PETTAPLAY#7395', 0.22808431, 0.5430755, 0.22884029, 100], ['kima#1596', 0.49690196, 0.3882993, 0.11479878, 15], ['haani_05#5594', 0.26872626, 0.53586394, 0.19540983, 100], ['Deleted User#0000', 0.34954157, 0.4863228, 0.16413563, 100], ['existential.duck#5117', 0.36971456, 0.45768523, 0.17260031, 99], ['Eeugh#0033', 0.22288015, 0.5777658, 0.199354, 9], ['Master chief#7460', 0.25843862, 0.5549174, 0.18664394, 100], ['KyroGaming#1987', 0.54242563, 0.41629434, 0.04127997, 2], ['soumar#3751', 0.30590144, 0.4841239, 0.20997438, 100], ['Iann#4893', 0.24527402, 0.60140115, 0.15332486, 100], ['Haruka Sakura#2591', 0.21577503, 0.5691975, 0.21502742, 100], ['schrimpf#2940', 0.27606472, 0.56762785, 0.15630749, 100], ['Dwonks#8334', 0.2708892, 0.51627815, 0.21283269, 99], ['hagha#2602', 0.13586317, 0.6735149, 0.1906219, 7], ['carlitos#1736', 0.2682939, 0.46884748, 0.26285857, 99], ['rY4n#8975', 0.35102186, 0.46730307, 0.18167502, 1], ['seafox2205#6878', 0.32553294, 0.45562068, 0.21884638, 100], ['Father#2152', 0.2645787, 0.5282133, 0.20720786, 100], ['XxEXO_TROOPERxX#8603', 0.38746572, 0.28552625, 0.327008, 7], [\"I'll do my best#9945\", 0.33053395, 0.40297198, 0.26649404, 100], ['Peachymango11#3226', 0.25871834, 0.50296277, 0.23831896, 63], ['lana#8237', 0.1392563, 0.5396906, 0.32105306, 9], ['sofia719462#2756', 0.116324335, 0.65028954, 0.23338617, 48], ['(G)raveyard #dear-god#0000', 0.41097495, 0.4729406, 0.116084404, 26], ['Son#9990', 0.42055723, 0.46998593, 0.1094568, 14], ['Lord Lazinga#7942', 0.23164698, 0.49559328, 0.27275977, 18], ['neurotell#9825', 0.26433852, 0.43354052, 0.30212086, 70], ['i have name#0161', 0.180011, 0.57873744, 0.24125165, 25], ['Caitlin#6324', 0.23831612, 0.54547703, 0.2162069, 27]]\n"
     ]
    },
    {
     "name": "stderr",
     "output_type": "stream",
     "text": [
      "\n"
     ]
    }
   ],
   "source": [
    "NumberOfMessages = []\n",
    "avgUserScore = []\n",
    "    \n",
    "for Author in tqdm(cleaned_data['Author'].unique()):\n",
    "    \n",
    "    usermessage = cleaned_data[cleaned_data['Author'] == Author ]\n",
    "    try:\n",
    "     usermessage =  usermessage.sample(n=100)\n",
    "    except:\n",
    "        usermessage = usermessage\n",
    "    #convert from dataframe to array of only the content of the message   \n",
    "    UserContent = usermessage['Content'].copy()\n",
    "    UserContent = UserContent.values\n",
    "    #make sure all objects are strings and not any other type\n",
    "    StrUserContent = []\n",
    "    for line in UserContent:\n",
    "        StrUserContent.append(str(line))\n",
    "\n",
    "    Scores_arr = []\n",
    "    for currentline in StrUserContent:\n",
    "        try:\n",
    "            text = currentline\n",
    "            text = preprocess(text)\n",
    "            encoded_input = tokenizer(text, return_tensors='pt')\n",
    "            output = model(**encoded_input)\n",
    "            scores = output[0][0].detach().numpy()\n",
    "            Scores_arr.append(softmax(scores))\n",
    "        except:\n",
    "            pass\n",
    "\n",
    "    \n",
    "    totalScore = 0\n",
    "    avgScore = 0\n",
    "    #calcuate the average between the list of scores calulated for that user\n",
    "    for i in Scores_arr:\n",
    "        totalScore += i\n",
    "    \n",
    "    avgScore = totalScore/len(Scores_arr)\n",
    "    avgUserScore.append([Author,avgScore[0],avgScore[1],avgScore[2],len(Scores_arr)])\n",
    "#print array of avg user scores for all users\n",
    "print(avgUserScore)\n",
    "\n",
    "# show the Dataframe"
   ]
  },
  {
   "cell_type": "code",
   "execution_count": null,
   "metadata": {},
   "outputs": [],
   "source": []
  },
  {
   "cell_type": "code",
   "execution_count": 24,
   "metadata": {},
   "outputs": [
    {
     "data": {
      "application/vnd.plotly.v1+json": {
       "config": {
        "plotlyServerURL": "https://plot.ly"
       },
       "data": [
        {
         "alignmentgroup": "True",
         "hovertemplate": "variable=Negative<br>Author=%{x}<br>value=%{y}<extra></extra>",
         "legendgroup": "Negative",
         "marker": {
          "color": "rgb(127, 60, 141)",
          "pattern": {
           "shape": ""
          }
         },
         "name": "Negative",
         "offsetgroup": "Negative",
         "orientation": "v",
         "showlegend": true,
         "textposition": "auto",
         "type": "bar",
         "x": [
          "sofia719462#2756",
          "hagha#2602",
          "lana#8237",
          "i have name#0161",
          "Haruka Sakura#2591",
          "Eeugh#0033",
          "PETTAPLAY#7395",
          "Lord Lazinga#7942",
          "Caitlin#6324",
          "Iann#4893",
          "Master chief#7460",
          "Peachymango11#3226",
          "neurotell#9825",
          "Father#2152",
          "Daiigr#7964",
          "carlitos#1736",
          "haani_05#5594",
          "Dwonks#8334",
          "The Dark Soul#7970",
          "schrimpf#2940",
          "LET ME IN!!!#0749",
          "soumar#3751",
          "Emo Knightmare#5231",
          "seafox2205#6878",
          "I'll do my best#9945",
          "Deleted User#0000",
          "rY4n#8975",
          "existential.duck#5117",
          "XxEXO_TROOPERxX#8603",
          "(G)raveyard #dear-god#0000",
          "Son#9990",
          "kima#1596",
          "KyroGaming#1987"
         ],
         "xaxis": "x",
         "y": [
          0.11632433533668518,
          0.13586317002773285,
          0.1392562985420227,
          0.18001100420951843,
          0.2157750278711319,
          0.22288015484809875,
          0.22808431088924408,
          0.23164698481559753,
          0.2383161187171936,
          0.24527402222156525,
          0.2584386169910431,
          0.258718341588974,
          0.26433852314949036,
          0.2645787000656128,
          0.266485333442688,
          0.2682938873767853,
          0.26872625946998596,
          0.27088919281959534,
          0.2724904716014862,
          0.2760647237300873,
          0.30158665776252747,
          0.305901437997818,
          0.3100169599056244,
          0.3255329430103302,
          0.3305339515209198,
          0.349541574716568,
          0.3510218560695648,
          0.36971455812454224,
          0.3874657154083252,
          0.4109749495983124,
          0.4205572307109833,
          0.4969019591808319,
          0.5424256324768066
         ],
         "yaxis": "y"
        },
        {
         "alignmentgroup": "True",
         "hovertemplate": "variable=Neutral<br>Author=%{x}<br>value=%{y}<extra></extra>",
         "legendgroup": "Neutral",
         "marker": {
          "color": "rgb(17, 165, 121)",
          "pattern": {
           "shape": ""
          }
         },
         "name": "Neutral",
         "offsetgroup": "Neutral",
         "orientation": "v",
         "showlegend": true,
         "textposition": "auto",
         "type": "bar",
         "x": [
          "sofia719462#2756",
          "hagha#2602",
          "lana#8237",
          "i have name#0161",
          "Haruka Sakura#2591",
          "Eeugh#0033",
          "PETTAPLAY#7395",
          "Lord Lazinga#7942",
          "Caitlin#6324",
          "Iann#4893",
          "Master chief#7460",
          "Peachymango11#3226",
          "neurotell#9825",
          "Father#2152",
          "Daiigr#7964",
          "carlitos#1736",
          "haani_05#5594",
          "Dwonks#8334",
          "The Dark Soul#7970",
          "schrimpf#2940",
          "LET ME IN!!!#0749",
          "soumar#3751",
          "Emo Knightmare#5231",
          "seafox2205#6878",
          "I'll do my best#9945",
          "Deleted User#0000",
          "rY4n#8975",
          "existential.duck#5117",
          "XxEXO_TROOPERxX#8603",
          "(G)raveyard #dear-god#0000",
          "Son#9990",
          "kima#1596",
          "KyroGaming#1987"
         ],
         "xaxis": "x",
         "y": [
          0.6502895355224609,
          0.6735149025917053,
          0.5396906137466431,
          0.5787374377250671,
          0.5691974759101868,
          0.5777658224105835,
          0.5430755019187927,
          0.49559327960014343,
          0.545477032661438,
          0.601401150226593,
          0.5549173951148987,
          0.5029627680778503,
          0.4335405230522156,
          0.5282133221626282,
          0.5127927660942078,
          0.46884748339653015,
          0.5358639359474182,
          0.5162781476974487,
          0.5343359112739563,
          0.5676278471946716,
          0.4895288348197937,
          0.4841238856315613,
          0.4812380075454712,
          0.455620676279068,
          0.4029719829559326,
          0.4863227903842926,
          0.467303067445755,
          0.4576852321624756,
          0.28552624583244324,
          0.472940593957901,
          0.4699859321117401,
          0.38829928636550903,
          0.4162943363189697
         ],
         "yaxis": "y"
        },
        {
         "alignmentgroup": "True",
         "hovertemplate": "variable=Possitive<br>Author=%{x}<br>value=%{y}<extra></extra>",
         "legendgroup": "Possitive",
         "marker": {
          "color": "rgb(57, 105, 172)",
          "pattern": {
           "shape": ""
          }
         },
         "name": "Possitive",
         "offsetgroup": "Possitive",
         "orientation": "v",
         "showlegend": true,
         "textposition": "auto",
         "type": "bar",
         "x": [
          "sofia719462#2756",
          "hagha#2602",
          "lana#8237",
          "i have name#0161",
          "Haruka Sakura#2591",
          "Eeugh#0033",
          "PETTAPLAY#7395",
          "Lord Lazinga#7942",
          "Caitlin#6324",
          "Iann#4893",
          "Master chief#7460",
          "Peachymango11#3226",
          "neurotell#9825",
          "Father#2152",
          "Daiigr#7964",
          "carlitos#1736",
          "haani_05#5594",
          "Dwonks#8334",
          "The Dark Soul#7970",
          "schrimpf#2940",
          "LET ME IN!!!#0749",
          "soumar#3751",
          "Emo Knightmare#5231",
          "seafox2205#6878",
          "I'll do my best#9945",
          "Deleted User#0000",
          "rY4n#8975",
          "existential.duck#5117",
          "XxEXO_TROOPERxX#8603",
          "(G)raveyard #dear-god#0000",
          "Son#9990",
          "kima#1596",
          "KyroGaming#1987"
         ],
         "xaxis": "x",
         "y": [
          0.23338617384433746,
          0.19062189757823944,
          0.32105305790901184,
          0.2412516474723816,
          0.21502742171287537,
          0.19935399293899536,
          0.22884029150009155,
          0.2727597653865814,
          0.216206893324852,
          0.15332485735416412,
          0.18664394319057465,
          0.23831896483898163,
          0.3021208643913269,
          0.20720785856246948,
          0.22072193026542664,
          0.2628585696220398,
          0.1954098343849182,
          0.21283268928527832,
          0.19317345321178436,
          0.15630748867988586,
          0.20888450741767883,
          0.20997437834739685,
          0.208745077252388,
          0.2188463807106018,
          0.2664940357208252,
          0.1641356348991394,
          0.1816750168800354,
          0.17260031402111053,
          0.3270080089569092,
          0.11608440428972244,
          0.10945679992437363,
          0.11479877680540085,
          0.04127997159957886
         ],
         "yaxis": "y"
        },
        {
         "alignmentgroup": "True",
         "hovertemplate": "variable=SampleSize<br>Author=%{x}<br>value=%{y}<extra></extra>",
         "legendgroup": "SampleSize",
         "marker": {
          "color": "rgb(242, 183, 1)",
          "pattern": {
           "shape": ""
          }
         },
         "name": "SampleSize",
         "offsetgroup": "SampleSize",
         "orientation": "v",
         "showlegend": true,
         "textposition": "auto",
         "type": "bar",
         "x": [
          "sofia719462#2756",
          "hagha#2602",
          "lana#8237",
          "i have name#0161",
          "Haruka Sakura#2591",
          "Eeugh#0033",
          "PETTAPLAY#7395",
          "Lord Lazinga#7942",
          "Caitlin#6324",
          "Iann#4893",
          "Master chief#7460",
          "Peachymango11#3226",
          "neurotell#9825",
          "Father#2152",
          "Daiigr#7964",
          "carlitos#1736",
          "haani_05#5594",
          "Dwonks#8334",
          "The Dark Soul#7970",
          "schrimpf#2940",
          "LET ME IN!!!#0749",
          "soumar#3751",
          "Emo Knightmare#5231",
          "seafox2205#6878",
          "I'll do my best#9945",
          "Deleted User#0000",
          "rY4n#8975",
          "existential.duck#5117",
          "XxEXO_TROOPERxX#8603",
          "(G)raveyard #dear-god#0000",
          "Son#9990",
          "kima#1596",
          "KyroGaming#1987"
         ],
         "xaxis": "x",
         "y": [
          48,
          7,
          9,
          25,
          100,
          9,
          100,
          18,
          27,
          100,
          100,
          63,
          70,
          100,
          100,
          99,
          100,
          99,
          100,
          100,
          100,
          100,
          100,
          100,
          100,
          100,
          1,
          99,
          7,
          26,
          14,
          15,
          2
         ],
         "yaxis": "y"
        }
       ],
       "layout": {
        "barmode": "relative",
        "legend": {
         "title": {
          "text": "variable"
         },
         "tracegroupgap": 0
        },
        "template": {
         "data": {
          "bar": [
           {
            "error_x": {
             "color": "#f2f5fa"
            },
            "error_y": {
             "color": "#f2f5fa"
            },
            "marker": {
             "line": {
              "color": "rgb(17,17,17)",
              "width": 0.5
             },
             "pattern": {
              "fillmode": "overlay",
              "size": 10,
              "solidity": 0.2
             }
            },
            "type": "bar"
           }
          ],
          "barpolar": [
           {
            "marker": {
             "line": {
              "color": "rgb(17,17,17)",
              "width": 0.5
             },
             "pattern": {
              "fillmode": "overlay",
              "size": 10,
              "solidity": 0.2
             }
            },
            "type": "barpolar"
           }
          ],
          "carpet": [
           {
            "aaxis": {
             "endlinecolor": "#A2B1C6",
             "gridcolor": "#506784",
             "linecolor": "#506784",
             "minorgridcolor": "#506784",
             "startlinecolor": "#A2B1C6"
            },
            "baxis": {
             "endlinecolor": "#A2B1C6",
             "gridcolor": "#506784",
             "linecolor": "#506784",
             "minorgridcolor": "#506784",
             "startlinecolor": "#A2B1C6"
            },
            "type": "carpet"
           }
          ],
          "choropleth": [
           {
            "colorbar": {
             "outlinewidth": 0,
             "ticks": ""
            },
            "type": "choropleth"
           }
          ],
          "contour": [
           {
            "colorbar": {
             "outlinewidth": 0,
             "ticks": ""
            },
            "colorscale": [
             [
              0,
              "#0d0887"
             ],
             [
              0.1111111111111111,
              "#46039f"
             ],
             [
              0.2222222222222222,
              "#7201a8"
             ],
             [
              0.3333333333333333,
              "#9c179e"
             ],
             [
              0.4444444444444444,
              "#bd3786"
             ],
             [
              0.5555555555555556,
              "#d8576b"
             ],
             [
              0.6666666666666666,
              "#ed7953"
             ],
             [
              0.7777777777777778,
              "#fb9f3a"
             ],
             [
              0.8888888888888888,
              "#fdca26"
             ],
             [
              1,
              "#f0f921"
             ]
            ],
            "type": "contour"
           }
          ],
          "contourcarpet": [
           {
            "colorbar": {
             "outlinewidth": 0,
             "ticks": ""
            },
            "type": "contourcarpet"
           }
          ],
          "heatmap": [
           {
            "colorbar": {
             "outlinewidth": 0,
             "ticks": ""
            },
            "colorscale": [
             [
              0,
              "#0d0887"
             ],
             [
              0.1111111111111111,
              "#46039f"
             ],
             [
              0.2222222222222222,
              "#7201a8"
             ],
             [
              0.3333333333333333,
              "#9c179e"
             ],
             [
              0.4444444444444444,
              "#bd3786"
             ],
             [
              0.5555555555555556,
              "#d8576b"
             ],
             [
              0.6666666666666666,
              "#ed7953"
             ],
             [
              0.7777777777777778,
              "#fb9f3a"
             ],
             [
              0.8888888888888888,
              "#fdca26"
             ],
             [
              1,
              "#f0f921"
             ]
            ],
            "type": "heatmap"
           }
          ],
          "heatmapgl": [
           {
            "colorbar": {
             "outlinewidth": 0,
             "ticks": ""
            },
            "colorscale": [
             [
              0,
              "#0d0887"
             ],
             [
              0.1111111111111111,
              "#46039f"
             ],
             [
              0.2222222222222222,
              "#7201a8"
             ],
             [
              0.3333333333333333,
              "#9c179e"
             ],
             [
              0.4444444444444444,
              "#bd3786"
             ],
             [
              0.5555555555555556,
              "#d8576b"
             ],
             [
              0.6666666666666666,
              "#ed7953"
             ],
             [
              0.7777777777777778,
              "#fb9f3a"
             ],
             [
              0.8888888888888888,
              "#fdca26"
             ],
             [
              1,
              "#f0f921"
             ]
            ],
            "type": "heatmapgl"
           }
          ],
          "histogram": [
           {
            "marker": {
             "pattern": {
              "fillmode": "overlay",
              "size": 10,
              "solidity": 0.2
             }
            },
            "type": "histogram"
           }
          ],
          "histogram2d": [
           {
            "colorbar": {
             "outlinewidth": 0,
             "ticks": ""
            },
            "colorscale": [
             [
              0,
              "#0d0887"
             ],
             [
              0.1111111111111111,
              "#46039f"
             ],
             [
              0.2222222222222222,
              "#7201a8"
             ],
             [
              0.3333333333333333,
              "#9c179e"
             ],
             [
              0.4444444444444444,
              "#bd3786"
             ],
             [
              0.5555555555555556,
              "#d8576b"
             ],
             [
              0.6666666666666666,
              "#ed7953"
             ],
             [
              0.7777777777777778,
              "#fb9f3a"
             ],
             [
              0.8888888888888888,
              "#fdca26"
             ],
             [
              1,
              "#f0f921"
             ]
            ],
            "type": "histogram2d"
           }
          ],
          "histogram2dcontour": [
           {
            "colorbar": {
             "outlinewidth": 0,
             "ticks": ""
            },
            "colorscale": [
             [
              0,
              "#0d0887"
             ],
             [
              0.1111111111111111,
              "#46039f"
             ],
             [
              0.2222222222222222,
              "#7201a8"
             ],
             [
              0.3333333333333333,
              "#9c179e"
             ],
             [
              0.4444444444444444,
              "#bd3786"
             ],
             [
              0.5555555555555556,
              "#d8576b"
             ],
             [
              0.6666666666666666,
              "#ed7953"
             ],
             [
              0.7777777777777778,
              "#fb9f3a"
             ],
             [
              0.8888888888888888,
              "#fdca26"
             ],
             [
              1,
              "#f0f921"
             ]
            ],
            "type": "histogram2dcontour"
           }
          ],
          "mesh3d": [
           {
            "colorbar": {
             "outlinewidth": 0,
             "ticks": ""
            },
            "type": "mesh3d"
           }
          ],
          "parcoords": [
           {
            "line": {
             "colorbar": {
              "outlinewidth": 0,
              "ticks": ""
             }
            },
            "type": "parcoords"
           }
          ],
          "pie": [
           {
            "automargin": true,
            "type": "pie"
           }
          ],
          "scatter": [
           {
            "marker": {
             "line": {
              "color": "#283442"
             }
            },
            "type": "scatter"
           }
          ],
          "scatter3d": [
           {
            "line": {
             "colorbar": {
              "outlinewidth": 0,
              "ticks": ""
             }
            },
            "marker": {
             "colorbar": {
              "outlinewidth": 0,
              "ticks": ""
             }
            },
            "type": "scatter3d"
           }
          ],
          "scattercarpet": [
           {
            "marker": {
             "colorbar": {
              "outlinewidth": 0,
              "ticks": ""
             }
            },
            "type": "scattercarpet"
           }
          ],
          "scattergeo": [
           {
            "marker": {
             "colorbar": {
              "outlinewidth": 0,
              "ticks": ""
             }
            },
            "type": "scattergeo"
           }
          ],
          "scattergl": [
           {
            "marker": {
             "line": {
              "color": "#283442"
             }
            },
            "type": "scattergl"
           }
          ],
          "scattermapbox": [
           {
            "marker": {
             "colorbar": {
              "outlinewidth": 0,
              "ticks": ""
             }
            },
            "type": "scattermapbox"
           }
          ],
          "scatterpolar": [
           {
            "marker": {
             "colorbar": {
              "outlinewidth": 0,
              "ticks": ""
             }
            },
            "type": "scatterpolar"
           }
          ],
          "scatterpolargl": [
           {
            "marker": {
             "colorbar": {
              "outlinewidth": 0,
              "ticks": ""
             }
            },
            "type": "scatterpolargl"
           }
          ],
          "scatterternary": [
           {
            "marker": {
             "colorbar": {
              "outlinewidth": 0,
              "ticks": ""
             }
            },
            "type": "scatterternary"
           }
          ],
          "surface": [
           {
            "colorbar": {
             "outlinewidth": 0,
             "ticks": ""
            },
            "colorscale": [
             [
              0,
              "#0d0887"
             ],
             [
              0.1111111111111111,
              "#46039f"
             ],
             [
              0.2222222222222222,
              "#7201a8"
             ],
             [
              0.3333333333333333,
              "#9c179e"
             ],
             [
              0.4444444444444444,
              "#bd3786"
             ],
             [
              0.5555555555555556,
              "#d8576b"
             ],
             [
              0.6666666666666666,
              "#ed7953"
             ],
             [
              0.7777777777777778,
              "#fb9f3a"
             ],
             [
              0.8888888888888888,
              "#fdca26"
             ],
             [
              1,
              "#f0f921"
             ]
            ],
            "type": "surface"
           }
          ],
          "table": [
           {
            "cells": {
             "fill": {
              "color": "#506784"
             },
             "line": {
              "color": "rgb(17,17,17)"
             }
            },
            "header": {
             "fill": {
              "color": "#2a3f5f"
             },
             "line": {
              "color": "rgb(17,17,17)"
             }
            },
            "type": "table"
           }
          ]
         },
         "layout": {
          "annotationdefaults": {
           "arrowcolor": "#f2f5fa",
           "arrowhead": 0,
           "arrowwidth": 1
          },
          "autotypenumbers": "strict",
          "coloraxis": {
           "colorbar": {
            "outlinewidth": 0,
            "ticks": ""
           }
          },
          "colorscale": {
           "diverging": [
            [
             0,
             "#8e0152"
            ],
            [
             0.1,
             "#c51b7d"
            ],
            [
             0.2,
             "#de77ae"
            ],
            [
             0.3,
             "#f1b6da"
            ],
            [
             0.4,
             "#fde0ef"
            ],
            [
             0.5,
             "#f7f7f7"
            ],
            [
             0.6,
             "#e6f5d0"
            ],
            [
             0.7,
             "#b8e186"
            ],
            [
             0.8,
             "#7fbc41"
            ],
            [
             0.9,
             "#4d9221"
            ],
            [
             1,
             "#276419"
            ]
           ],
           "sequential": [
            [
             0,
             "#0d0887"
            ],
            [
             0.1111111111111111,
             "#46039f"
            ],
            [
             0.2222222222222222,
             "#7201a8"
            ],
            [
             0.3333333333333333,
             "#9c179e"
            ],
            [
             0.4444444444444444,
             "#bd3786"
            ],
            [
             0.5555555555555556,
             "#d8576b"
            ],
            [
             0.6666666666666666,
             "#ed7953"
            ],
            [
             0.7777777777777778,
             "#fb9f3a"
            ],
            [
             0.8888888888888888,
             "#fdca26"
            ],
            [
             1,
             "#f0f921"
            ]
           ],
           "sequentialminus": [
            [
             0,
             "#0d0887"
            ],
            [
             0.1111111111111111,
             "#46039f"
            ],
            [
             0.2222222222222222,
             "#7201a8"
            ],
            [
             0.3333333333333333,
             "#9c179e"
            ],
            [
             0.4444444444444444,
             "#bd3786"
            ],
            [
             0.5555555555555556,
             "#d8576b"
            ],
            [
             0.6666666666666666,
             "#ed7953"
            ],
            [
             0.7777777777777778,
             "#fb9f3a"
            ],
            [
             0.8888888888888888,
             "#fdca26"
            ],
            [
             1,
             "#f0f921"
            ]
           ]
          },
          "colorway": [
           "#636efa",
           "#EF553B",
           "#00cc96",
           "#ab63fa",
           "#FFA15A",
           "#19d3f3",
           "#FF6692",
           "#B6E880",
           "#FF97FF",
           "#FECB52"
          ],
          "font": {
           "color": "#f2f5fa"
          },
          "geo": {
           "bgcolor": "rgb(17,17,17)",
           "lakecolor": "rgb(17,17,17)",
           "landcolor": "rgb(17,17,17)",
           "showlakes": true,
           "showland": true,
           "subunitcolor": "#506784"
          },
          "hoverlabel": {
           "align": "left"
          },
          "hovermode": "closest",
          "mapbox": {
           "style": "dark"
          },
          "paper_bgcolor": "rgb(17,17,17)",
          "plot_bgcolor": "rgb(17,17,17)",
          "polar": {
           "angularaxis": {
            "gridcolor": "#506784",
            "linecolor": "#506784",
            "ticks": ""
           },
           "bgcolor": "rgb(17,17,17)",
           "radialaxis": {
            "gridcolor": "#506784",
            "linecolor": "#506784",
            "ticks": ""
           }
          },
          "scene": {
           "xaxis": {
            "backgroundcolor": "rgb(17,17,17)",
            "gridcolor": "#506784",
            "gridwidth": 2,
            "linecolor": "#506784",
            "showbackground": true,
            "ticks": "",
            "zerolinecolor": "#C8D4E3"
           },
           "yaxis": {
            "backgroundcolor": "rgb(17,17,17)",
            "gridcolor": "#506784",
            "gridwidth": 2,
            "linecolor": "#506784",
            "showbackground": true,
            "ticks": "",
            "zerolinecolor": "#C8D4E3"
           },
           "zaxis": {
            "backgroundcolor": "rgb(17,17,17)",
            "gridcolor": "#506784",
            "gridwidth": 2,
            "linecolor": "#506784",
            "showbackground": true,
            "ticks": "",
            "zerolinecolor": "#C8D4E3"
           }
          },
          "shapedefaults": {
           "line": {
            "color": "#f2f5fa"
           }
          },
          "sliderdefaults": {
           "bgcolor": "#C8D4E3",
           "bordercolor": "rgb(17,17,17)",
           "borderwidth": 1,
           "tickwidth": 0
          },
          "ternary": {
           "aaxis": {
            "gridcolor": "#506784",
            "linecolor": "#506784",
            "ticks": ""
           },
           "baxis": {
            "gridcolor": "#506784",
            "linecolor": "#506784",
            "ticks": ""
           },
           "bgcolor": "rgb(17,17,17)",
           "caxis": {
            "gridcolor": "#506784",
            "linecolor": "#506784",
            "ticks": ""
           }
          },
          "title": {
           "x": 0.05
          },
          "updatemenudefaults": {
           "bgcolor": "#506784",
           "borderwidth": 0
          },
          "xaxis": {
           "automargin": true,
           "gridcolor": "#283442",
           "linecolor": "#506784",
           "ticks": "",
           "title": {
            "standoff": 15
           },
           "zerolinecolor": "#283442",
           "zerolinewidth": 2
          },
          "yaxis": {
           "automargin": true,
           "gridcolor": "#283442",
           "linecolor": "#506784",
           "ticks": "",
           "title": {
            "standoff": 15
           },
           "zerolinecolor": "#283442",
           "zerolinewidth": 2
          }
         }
        },
        "title": {
         "text": "Average Sentiment for Each User"
        },
        "xaxis": {
         "anchor": "y",
         "domain": [
          0,
          1
         ],
         "title": {
          "text": "Author"
         }
        },
        "yaxis": {
         "anchor": "x",
         "domain": [
          0,
          1
         ],
         "title": {
          "text": "value"
         }
        }
       }
      }
     },
     "metadata": {},
     "output_type": "display_data"
    }
   ],
   "source": [
    "import plotly.express as px\n",
    "df = pd.DataFrame(avgUserScore, columns = ['Author','Negative','Neutral','Possitive','SampleSize'])\n",
    "df.sort_values(by=['Negative'], inplace=True)\n",
    "\n",
    "fig = px.bar(df, x='Author', y=['Negative','Neutral','Possitive'],\n",
    "                template = \"plotly_dark\",\n",
    "                color_discrete_sequence=px.colors.qualitative.Bold, title='Average Sentiment for Each User')\n",
    "fig.show()"
   ]
  },
  {
   "cell_type": "markdown",
   "metadata": {},
   "source": [
    "## is there a trend between sample size and the extremity of the avg sentiment values?"
   ]
  },
  {
   "cell_type": "code",
   "execution_count": 23,
   "metadata": {},
   "outputs": [
    {
     "name": "stderr",
     "output_type": "stream",
     "text": [
      "/Users/daniel/miniforge3/envs/GPT/lib/python3.9/site-packages/statsmodels/nonparametric/smoothers_lowess.py:227: RuntimeWarning:\n",
      "\n",
      "invalid value encountered in divide\n",
      "\n",
      "/Users/daniel/miniforge3/envs/GPT/lib/python3.9/site-packages/statsmodels/nonparametric/smoothers_lowess.py:227: RuntimeWarning:\n",
      "\n",
      "invalid value encountered in divide\n",
      "\n",
      "/Users/daniel/miniforge3/envs/GPT/lib/python3.9/site-packages/statsmodels/nonparametric/smoothers_lowess.py:227: RuntimeWarning:\n",
      "\n",
      "invalid value encountered in divide\n",
      "\n"
     ]
    },
    {
     "data": {
      "application/vnd.plotly.v1+json": {
       "config": {
        "plotlyServerURL": "https://plot.ly"
       },
       "data": [
        {
         "hovertemplate": "variable=Negative<br>SampleSize=%{x}<br>value=%{y}<extra></extra>",
         "legendgroup": "Negative",
         "marker": {
          "color": "#636efa",
          "symbol": "circle"
         },
         "mode": "markers",
         "name": "Negative",
         "orientation": "v",
         "showlegend": true,
         "type": "scatter",
         "x": [
          48,
          7,
          9,
          25,
          100,
          9,
          100,
          18,
          27,
          100,
          100,
          63,
          70,
          100,
          100,
          99,
          100,
          99,
          100,
          100,
          100,
          100,
          100,
          100,
          100,
          100,
          1,
          99,
          7,
          26,
          14,
          15,
          2
         ],
         "xaxis": "x",
         "y": [
          0.11632433533668518,
          0.13586317002773285,
          0.1392562985420227,
          0.18001100420951843,
          0.2157750278711319,
          0.22288015484809875,
          0.22808431088924408,
          0.23164698481559753,
          0.2383161187171936,
          0.24527402222156525,
          0.2584386169910431,
          0.258718341588974,
          0.26433852314949036,
          0.2645787000656128,
          0.266485333442688,
          0.2682938873767853,
          0.26872625946998596,
          0.27088919281959534,
          0.2724904716014862,
          0.2760647237300873,
          0.30158665776252747,
          0.305901437997818,
          0.3100169599056244,
          0.3255329430103302,
          0.3305339515209198,
          0.349541574716568,
          0.3510218560695648,
          0.36971455812454224,
          0.3874657154083252,
          0.4109749495983124,
          0.4205572307109833,
          0.4969019591808319,
          0.5424256324768066
         ],
         "yaxis": "y"
        },
        {
         "hovertemplate": "<b>LOWESS trendline</b><br><br>variable=Negative<br>SampleSize=%{x}<br>value=%{y} <b>(trend)</b><extra></extra>",
         "legendgroup": "Negative",
         "marker": {
          "color": "#636efa",
          "symbol": "circle"
         },
         "mode": "lines",
         "name": "Negative",
         "showlegend": false,
         "type": "scatter",
         "x": [
          1,
          2,
          7,
          7,
          9,
          9,
          14,
          15,
          18,
          25,
          26,
          27,
          48,
          63,
          70,
          99,
          99,
          99,
          100,
          100,
          100,
          100,
          100,
          100,
          100,
          100,
          100,
          100,
          100,
          100,
          100,
          100,
          100
         ],
         "xaxis": "x",
         "y": [
          0.3554755125607525,
          0.35128220698810364,
          0.330533922351706,
          0.330533922351706,
          0.3222078543834253,
          0.3222078543834253,
          0.3011653439805608,
          0.2970255839498444,
          0.2851376882236281,
          0.26164164080559976,
          0.25658881678773265,
          0.2500415741663473,
          0.23541880566925488,
          0.23362228333136395,
          0.27616615573314135,
          0.30064521317469733,
          0.30064521317469733,
          0.30064521317469733,
          0.2645787000656128,
          0.2645787000656128,
          0.2645787000656128,
          0.2645787000656128,
          0.2645787000656128,
          0.2645787000656128,
          0.2645787000656128,
          0.2645787000656128,
          0.2645787000656128,
          0.2645787000656128,
          0.2645787000656128,
          0.2645787000656128,
          0.2645787000656128,
          0.2645787000656128,
          0.2645787000656128
         ],
         "yaxis": "y"
        },
        {
         "hovertemplate": "variable=Neutral<br>SampleSize=%{x}<br>value=%{y}<extra></extra>",
         "legendgroup": "Neutral",
         "marker": {
          "color": "#EF553B",
          "symbol": "circle"
         },
         "mode": "markers",
         "name": "Neutral",
         "orientation": "v",
         "showlegend": true,
         "type": "scatter",
         "x": [
          48,
          7,
          9,
          25,
          100,
          9,
          100,
          18,
          27,
          100,
          100,
          63,
          70,
          100,
          100,
          99,
          100,
          99,
          100,
          100,
          100,
          100,
          100,
          100,
          100,
          100,
          1,
          99,
          7,
          26,
          14,
          15,
          2
         ],
         "xaxis": "x",
         "y": [
          0.6502895355224609,
          0.6735149025917053,
          0.5396906137466431,
          0.5787374377250671,
          0.5691974759101868,
          0.5777658224105835,
          0.5430755019187927,
          0.49559327960014343,
          0.545477032661438,
          0.601401150226593,
          0.5549173951148987,
          0.5029627680778503,
          0.4335405230522156,
          0.5282133221626282,
          0.5127927660942078,
          0.46884748339653015,
          0.5358639359474182,
          0.5162781476974487,
          0.5343359112739563,
          0.5676278471946716,
          0.4895288348197937,
          0.4841238856315613,
          0.4812380075454712,
          0.455620676279068,
          0.4029719829559326,
          0.4863227903842926,
          0.467303067445755,
          0.4576852321624756,
          0.28552624583244324,
          0.472940593957901,
          0.4699859321117401,
          0.38829928636550903,
          0.4162943363189697
         ],
         "yaxis": "y"
        },
        {
         "hovertemplate": "<b>LOWESS trendline</b><br><br>variable=Neutral<br>SampleSize=%{x}<br>value=%{y} <b>(trend)</b><extra></extra>",
         "legendgroup": "Neutral",
         "marker": {
          "color": "#EF553B",
          "symbol": "circle"
         },
         "mode": "lines",
         "name": "Neutral",
         "showlegend": false,
         "type": "scatter",
         "x": [
          1,
          2,
          7,
          7,
          9,
          9,
          14,
          15,
          18,
          25,
          26,
          27,
          48,
          63,
          70,
          99,
          99,
          99,
          100,
          100,
          100,
          100,
          100,
          100,
          100,
          100,
          100,
          100,
          100,
          100,
          100,
          100,
          100
         ],
         "xaxis": "x",
         "y": [
          0.4619535599411904,
          0.46435180722016844,
          0.476368551572772,
          0.476368551572772,
          0.48130310784019537,
          0.48130310784019537,
          0.49414765010255657,
          0.49672763446994167,
          0.5041474688824839,
          0.5198688195849807,
          0.5238848480508888,
          0.5290879789484332,
          0.5134771242008113,
          0.5027369467506575,
          0.43620709791326245,
          0.48056120939061714,
          0.48056120939061714,
          0.48056120939061714,
          0.5282133221626282,
          0.5282133221626282,
          0.5282133221626282,
          0.5282133221626282,
          0.5282133221626282,
          0.5282133221626282,
          0.5282133221626282,
          0.5282133221626282,
          0.5282133221626282,
          0.5282133221626282,
          0.5282133221626282,
          0.5282133221626282,
          0.5282133221626282,
          0.5282133221626282,
          0.5282133221626282
         ],
         "yaxis": "y"
        },
        {
         "hovertemplate": "variable=Possitive<br>SampleSize=%{x}<br>value=%{y}<extra></extra>",
         "legendgroup": "Possitive",
         "marker": {
          "color": "#00cc96",
          "symbol": "circle"
         },
         "mode": "markers",
         "name": "Possitive",
         "orientation": "v",
         "showlegend": true,
         "type": "scatter",
         "x": [
          48,
          7,
          9,
          25,
          100,
          9,
          100,
          18,
          27,
          100,
          100,
          63,
          70,
          100,
          100,
          99,
          100,
          99,
          100,
          100,
          100,
          100,
          100,
          100,
          100,
          100,
          1,
          99,
          7,
          26,
          14,
          15,
          2
         ],
         "xaxis": "x",
         "y": [
          0.23338617384433746,
          0.19062189757823944,
          0.32105305790901184,
          0.2412516474723816,
          0.21502742171287537,
          0.19935399293899536,
          0.22884029150009155,
          0.2727597653865814,
          0.216206893324852,
          0.15332485735416412,
          0.18664394319057465,
          0.23831896483898163,
          0.3021208643913269,
          0.20720785856246948,
          0.22072193026542664,
          0.2628585696220398,
          0.1954098343849182,
          0.21283268928527832,
          0.19317345321178436,
          0.15630748867988586,
          0.20888450741767883,
          0.20997437834739685,
          0.208745077252388,
          0.2188463807106018,
          0.2664940357208252,
          0.1641356348991394,
          0.1816750168800354,
          0.17260031402111053,
          0.3270080089569092,
          0.11608440428972244,
          0.10945679992437363,
          0.11479877680540085,
          0.04127997159957886
         ],
         "yaxis": "y"
        },
        {
         "hovertemplate": "<b>LOWESS trendline</b><br><br>variable=Possitive<br>SampleSize=%{x}<br>value=%{y} <b>(trend)</b><extra></extra>",
         "legendgroup": "Possitive",
         "marker": {
          "color": "#00cc96",
          "symbol": "circle"
         },
         "mode": "lines",
         "name": "Possitive",
         "showlegend": false,
         "type": "scatter",
         "x": [
          1,
          2,
          7,
          7,
          9,
          9,
          14,
          15,
          18,
          25,
          26,
          27,
          48,
          63,
          70,
          99,
          99,
          99,
          100,
          100,
          100,
          100,
          100,
          100,
          100,
          100,
          100,
          100,
          100,
          100,
          100,
          100,
          100
         ],
         "xaxis": "x",
         "y": [
          0.17742131019194532,
          0.17890504737358667,
          0.18652823953267464,
          0.18652823953267464,
          0.18966236104509496,
          0.18966236104509496,
          0.19758073303967355,
          0.1991483588927258,
          0.20381286784845637,
          0.21752620750438711,
          0.21880484178608806,
          0.21888006975955077,
          0.24193799904335972,
          0.26510260952805836,
          0.2869659740549962,
          0.21470559854899496,
          0.21470559854899496,
          0.21470559854899496,
          0.20720785856246948,
          0.20720785856246948,
          0.20720785856246948,
          0.20720785856246948,
          0.20720785856246948,
          0.20720785856246948,
          0.20720785856246948,
          0.20720785856246948,
          0.20720785856246948,
          0.20720785856246948,
          0.20720785856246948,
          0.20720785856246948,
          0.20720785856246948,
          0.20720785856246948,
          0.20720785856246948
         ],
         "yaxis": "y"
        }
       ],
       "layout": {
        "legend": {
         "title": {
          "text": "variable"
         },
         "tracegroupgap": 0
        },
        "template": {
         "data": {
          "bar": [
           {
            "error_x": {
             "color": "#f2f5fa"
            },
            "error_y": {
             "color": "#f2f5fa"
            },
            "marker": {
             "line": {
              "color": "rgb(17,17,17)",
              "width": 0.5
             },
             "pattern": {
              "fillmode": "overlay",
              "size": 10,
              "solidity": 0.2
             }
            },
            "type": "bar"
           }
          ],
          "barpolar": [
           {
            "marker": {
             "line": {
              "color": "rgb(17,17,17)",
              "width": 0.5
             },
             "pattern": {
              "fillmode": "overlay",
              "size": 10,
              "solidity": 0.2
             }
            },
            "type": "barpolar"
           }
          ],
          "carpet": [
           {
            "aaxis": {
             "endlinecolor": "#A2B1C6",
             "gridcolor": "#506784",
             "linecolor": "#506784",
             "minorgridcolor": "#506784",
             "startlinecolor": "#A2B1C6"
            },
            "baxis": {
             "endlinecolor": "#A2B1C6",
             "gridcolor": "#506784",
             "linecolor": "#506784",
             "minorgridcolor": "#506784",
             "startlinecolor": "#A2B1C6"
            },
            "type": "carpet"
           }
          ],
          "choropleth": [
           {
            "colorbar": {
             "outlinewidth": 0,
             "ticks": ""
            },
            "type": "choropleth"
           }
          ],
          "contour": [
           {
            "colorbar": {
             "outlinewidth": 0,
             "ticks": ""
            },
            "colorscale": [
             [
              0,
              "#0d0887"
             ],
             [
              0.1111111111111111,
              "#46039f"
             ],
             [
              0.2222222222222222,
              "#7201a8"
             ],
             [
              0.3333333333333333,
              "#9c179e"
             ],
             [
              0.4444444444444444,
              "#bd3786"
             ],
             [
              0.5555555555555556,
              "#d8576b"
             ],
             [
              0.6666666666666666,
              "#ed7953"
             ],
             [
              0.7777777777777778,
              "#fb9f3a"
             ],
             [
              0.8888888888888888,
              "#fdca26"
             ],
             [
              1,
              "#f0f921"
             ]
            ],
            "type": "contour"
           }
          ],
          "contourcarpet": [
           {
            "colorbar": {
             "outlinewidth": 0,
             "ticks": ""
            },
            "type": "contourcarpet"
           }
          ],
          "heatmap": [
           {
            "colorbar": {
             "outlinewidth": 0,
             "ticks": ""
            },
            "colorscale": [
             [
              0,
              "#0d0887"
             ],
             [
              0.1111111111111111,
              "#46039f"
             ],
             [
              0.2222222222222222,
              "#7201a8"
             ],
             [
              0.3333333333333333,
              "#9c179e"
             ],
             [
              0.4444444444444444,
              "#bd3786"
             ],
             [
              0.5555555555555556,
              "#d8576b"
             ],
             [
              0.6666666666666666,
              "#ed7953"
             ],
             [
              0.7777777777777778,
              "#fb9f3a"
             ],
             [
              0.8888888888888888,
              "#fdca26"
             ],
             [
              1,
              "#f0f921"
             ]
            ],
            "type": "heatmap"
           }
          ],
          "heatmapgl": [
           {
            "colorbar": {
             "outlinewidth": 0,
             "ticks": ""
            },
            "colorscale": [
             [
              0,
              "#0d0887"
             ],
             [
              0.1111111111111111,
              "#46039f"
             ],
             [
              0.2222222222222222,
              "#7201a8"
             ],
             [
              0.3333333333333333,
              "#9c179e"
             ],
             [
              0.4444444444444444,
              "#bd3786"
             ],
             [
              0.5555555555555556,
              "#d8576b"
             ],
             [
              0.6666666666666666,
              "#ed7953"
             ],
             [
              0.7777777777777778,
              "#fb9f3a"
             ],
             [
              0.8888888888888888,
              "#fdca26"
             ],
             [
              1,
              "#f0f921"
             ]
            ],
            "type": "heatmapgl"
           }
          ],
          "histogram": [
           {
            "marker": {
             "pattern": {
              "fillmode": "overlay",
              "size": 10,
              "solidity": 0.2
             }
            },
            "type": "histogram"
           }
          ],
          "histogram2d": [
           {
            "colorbar": {
             "outlinewidth": 0,
             "ticks": ""
            },
            "colorscale": [
             [
              0,
              "#0d0887"
             ],
             [
              0.1111111111111111,
              "#46039f"
             ],
             [
              0.2222222222222222,
              "#7201a8"
             ],
             [
              0.3333333333333333,
              "#9c179e"
             ],
             [
              0.4444444444444444,
              "#bd3786"
             ],
             [
              0.5555555555555556,
              "#d8576b"
             ],
             [
              0.6666666666666666,
              "#ed7953"
             ],
             [
              0.7777777777777778,
              "#fb9f3a"
             ],
             [
              0.8888888888888888,
              "#fdca26"
             ],
             [
              1,
              "#f0f921"
             ]
            ],
            "type": "histogram2d"
           }
          ],
          "histogram2dcontour": [
           {
            "colorbar": {
             "outlinewidth": 0,
             "ticks": ""
            },
            "colorscale": [
             [
              0,
              "#0d0887"
             ],
             [
              0.1111111111111111,
              "#46039f"
             ],
             [
              0.2222222222222222,
              "#7201a8"
             ],
             [
              0.3333333333333333,
              "#9c179e"
             ],
             [
              0.4444444444444444,
              "#bd3786"
             ],
             [
              0.5555555555555556,
              "#d8576b"
             ],
             [
              0.6666666666666666,
              "#ed7953"
             ],
             [
              0.7777777777777778,
              "#fb9f3a"
             ],
             [
              0.8888888888888888,
              "#fdca26"
             ],
             [
              1,
              "#f0f921"
             ]
            ],
            "type": "histogram2dcontour"
           }
          ],
          "mesh3d": [
           {
            "colorbar": {
             "outlinewidth": 0,
             "ticks": ""
            },
            "type": "mesh3d"
           }
          ],
          "parcoords": [
           {
            "line": {
             "colorbar": {
              "outlinewidth": 0,
              "ticks": ""
             }
            },
            "type": "parcoords"
           }
          ],
          "pie": [
           {
            "automargin": true,
            "type": "pie"
           }
          ],
          "scatter": [
           {
            "marker": {
             "line": {
              "color": "#283442"
             }
            },
            "type": "scatter"
           }
          ],
          "scatter3d": [
           {
            "line": {
             "colorbar": {
              "outlinewidth": 0,
              "ticks": ""
             }
            },
            "marker": {
             "colorbar": {
              "outlinewidth": 0,
              "ticks": ""
             }
            },
            "type": "scatter3d"
           }
          ],
          "scattercarpet": [
           {
            "marker": {
             "colorbar": {
              "outlinewidth": 0,
              "ticks": ""
             }
            },
            "type": "scattercarpet"
           }
          ],
          "scattergeo": [
           {
            "marker": {
             "colorbar": {
              "outlinewidth": 0,
              "ticks": ""
             }
            },
            "type": "scattergeo"
           }
          ],
          "scattergl": [
           {
            "marker": {
             "line": {
              "color": "#283442"
             }
            },
            "type": "scattergl"
           }
          ],
          "scattermapbox": [
           {
            "marker": {
             "colorbar": {
              "outlinewidth": 0,
              "ticks": ""
             }
            },
            "type": "scattermapbox"
           }
          ],
          "scatterpolar": [
           {
            "marker": {
             "colorbar": {
              "outlinewidth": 0,
              "ticks": ""
             }
            },
            "type": "scatterpolar"
           }
          ],
          "scatterpolargl": [
           {
            "marker": {
             "colorbar": {
              "outlinewidth": 0,
              "ticks": ""
             }
            },
            "type": "scatterpolargl"
           }
          ],
          "scatterternary": [
           {
            "marker": {
             "colorbar": {
              "outlinewidth": 0,
              "ticks": ""
             }
            },
            "type": "scatterternary"
           }
          ],
          "surface": [
           {
            "colorbar": {
             "outlinewidth": 0,
             "ticks": ""
            },
            "colorscale": [
             [
              0,
              "#0d0887"
             ],
             [
              0.1111111111111111,
              "#46039f"
             ],
             [
              0.2222222222222222,
              "#7201a8"
             ],
             [
              0.3333333333333333,
              "#9c179e"
             ],
             [
              0.4444444444444444,
              "#bd3786"
             ],
             [
              0.5555555555555556,
              "#d8576b"
             ],
             [
              0.6666666666666666,
              "#ed7953"
             ],
             [
              0.7777777777777778,
              "#fb9f3a"
             ],
             [
              0.8888888888888888,
              "#fdca26"
             ],
             [
              1,
              "#f0f921"
             ]
            ],
            "type": "surface"
           }
          ],
          "table": [
           {
            "cells": {
             "fill": {
              "color": "#506784"
             },
             "line": {
              "color": "rgb(17,17,17)"
             }
            },
            "header": {
             "fill": {
              "color": "#2a3f5f"
             },
             "line": {
              "color": "rgb(17,17,17)"
             }
            },
            "type": "table"
           }
          ]
         },
         "layout": {
          "annotationdefaults": {
           "arrowcolor": "#f2f5fa",
           "arrowhead": 0,
           "arrowwidth": 1
          },
          "autotypenumbers": "strict",
          "coloraxis": {
           "colorbar": {
            "outlinewidth": 0,
            "ticks": ""
           }
          },
          "colorscale": {
           "diverging": [
            [
             0,
             "#8e0152"
            ],
            [
             0.1,
             "#c51b7d"
            ],
            [
             0.2,
             "#de77ae"
            ],
            [
             0.3,
             "#f1b6da"
            ],
            [
             0.4,
             "#fde0ef"
            ],
            [
             0.5,
             "#f7f7f7"
            ],
            [
             0.6,
             "#e6f5d0"
            ],
            [
             0.7,
             "#b8e186"
            ],
            [
             0.8,
             "#7fbc41"
            ],
            [
             0.9,
             "#4d9221"
            ],
            [
             1,
             "#276419"
            ]
           ],
           "sequential": [
            [
             0,
             "#0d0887"
            ],
            [
             0.1111111111111111,
             "#46039f"
            ],
            [
             0.2222222222222222,
             "#7201a8"
            ],
            [
             0.3333333333333333,
             "#9c179e"
            ],
            [
             0.4444444444444444,
             "#bd3786"
            ],
            [
             0.5555555555555556,
             "#d8576b"
            ],
            [
             0.6666666666666666,
             "#ed7953"
            ],
            [
             0.7777777777777778,
             "#fb9f3a"
            ],
            [
             0.8888888888888888,
             "#fdca26"
            ],
            [
             1,
             "#f0f921"
            ]
           ],
           "sequentialminus": [
            [
             0,
             "#0d0887"
            ],
            [
             0.1111111111111111,
             "#46039f"
            ],
            [
             0.2222222222222222,
             "#7201a8"
            ],
            [
             0.3333333333333333,
             "#9c179e"
            ],
            [
             0.4444444444444444,
             "#bd3786"
            ],
            [
             0.5555555555555556,
             "#d8576b"
            ],
            [
             0.6666666666666666,
             "#ed7953"
            ],
            [
             0.7777777777777778,
             "#fb9f3a"
            ],
            [
             0.8888888888888888,
             "#fdca26"
            ],
            [
             1,
             "#f0f921"
            ]
           ]
          },
          "colorway": [
           "#636efa",
           "#EF553B",
           "#00cc96",
           "#ab63fa",
           "#FFA15A",
           "#19d3f3",
           "#FF6692",
           "#B6E880",
           "#FF97FF",
           "#FECB52"
          ],
          "font": {
           "color": "#f2f5fa"
          },
          "geo": {
           "bgcolor": "rgb(17,17,17)",
           "lakecolor": "rgb(17,17,17)",
           "landcolor": "rgb(17,17,17)",
           "showlakes": true,
           "showland": true,
           "subunitcolor": "#506784"
          },
          "hoverlabel": {
           "align": "left"
          },
          "hovermode": "closest",
          "mapbox": {
           "style": "dark"
          },
          "paper_bgcolor": "rgb(17,17,17)",
          "plot_bgcolor": "rgb(17,17,17)",
          "polar": {
           "angularaxis": {
            "gridcolor": "#506784",
            "linecolor": "#506784",
            "ticks": ""
           },
           "bgcolor": "rgb(17,17,17)",
           "radialaxis": {
            "gridcolor": "#506784",
            "linecolor": "#506784",
            "ticks": ""
           }
          },
          "scene": {
           "xaxis": {
            "backgroundcolor": "rgb(17,17,17)",
            "gridcolor": "#506784",
            "gridwidth": 2,
            "linecolor": "#506784",
            "showbackground": true,
            "ticks": "",
            "zerolinecolor": "#C8D4E3"
           },
           "yaxis": {
            "backgroundcolor": "rgb(17,17,17)",
            "gridcolor": "#506784",
            "gridwidth": 2,
            "linecolor": "#506784",
            "showbackground": true,
            "ticks": "",
            "zerolinecolor": "#C8D4E3"
           },
           "zaxis": {
            "backgroundcolor": "rgb(17,17,17)",
            "gridcolor": "#506784",
            "gridwidth": 2,
            "linecolor": "#506784",
            "showbackground": true,
            "ticks": "",
            "zerolinecolor": "#C8D4E3"
           }
          },
          "shapedefaults": {
           "line": {
            "color": "#f2f5fa"
           }
          },
          "sliderdefaults": {
           "bgcolor": "#C8D4E3",
           "bordercolor": "rgb(17,17,17)",
           "borderwidth": 1,
           "tickwidth": 0
          },
          "ternary": {
           "aaxis": {
            "gridcolor": "#506784",
            "linecolor": "#506784",
            "ticks": ""
           },
           "baxis": {
            "gridcolor": "#506784",
            "linecolor": "#506784",
            "ticks": ""
           },
           "bgcolor": "rgb(17,17,17)",
           "caxis": {
            "gridcolor": "#506784",
            "linecolor": "#506784",
            "ticks": ""
           }
          },
          "title": {
           "x": 0.05
          },
          "updatemenudefaults": {
           "bgcolor": "#506784",
           "borderwidth": 0
          },
          "xaxis": {
           "automargin": true,
           "gridcolor": "#283442",
           "linecolor": "#506784",
           "ticks": "",
           "title": {
            "standoff": 15
           },
           "zerolinecolor": "#283442",
           "zerolinewidth": 2
          },
          "yaxis": {
           "automargin": true,
           "gridcolor": "#283442",
           "linecolor": "#506784",
           "ticks": "",
           "title": {
            "standoff": 15
           },
           "zerolinecolor": "#283442",
           "zerolinewidth": 2
          }
         }
        },
        "title": {
         "text": "sample size against average values of each sentiment"
        },
        "xaxis": {
         "anchor": "y",
         "domain": [
          0,
          1
         ],
         "title": {
          "text": "SampleSize"
         }
        },
        "yaxis": {
         "anchor": "x",
         "domain": [
          0,
          1
         ],
         "title": {
          "text": "value"
         }
        }
       }
      }
     },
     "metadata": {},
     "output_type": "display_data"
    }
   ],
   "source": [
    "# x and y given as DataFrame columns\n",
    "import plotly.express as px\n",
    "fig = px.scatter(df, x='SampleSize', y=['Negative','Neutral','Possitive'],trendline=\"lowess\",trendline_options=dict(frac=0.4),template = \"plotly_dark\", \n",
    "title='sample size against average values of each sentiment')\n",
    "fig.show()"
   ]
  },
  {
   "cell_type": "code",
   "execution_count": 20,
   "metadata": {},
   "outputs": [
    {
     "data": {
      "application/vnd.plotly.v1+json": {
       "config": {
        "plotlyServerURL": "https://plot.ly"
       },
       "data": [
        {
         "alignmentgroup": "True",
         "hovertemplate": "variable=Neutral<br>Author=%{x}<br>value=%{y}<extra></extra>",
         "legendgroup": "Neutral",
         "marker": {
          "color": "rgb(127, 60, 141)",
          "pattern": {
           "shape": ""
          }
         },
         "name": "Neutral",
         "offsetgroup": "Neutral",
         "orientation": "v",
         "showlegend": true,
         "textposition": "auto",
         "type": "bar",
         "x": [
          "sofia719462#2756",
          "hagha#2602",
          "lana#8237",
          "i have name#0161",
          "haani_05#5594",
          "Eeugh#0033",
          "Haruka Sakura#2591",
          "Lord Lazinga#7942",
          "Caitlin#6324",
          "PETTAPLAY#7395",
          "Peachymango11#3226",
          "Iann#4893",
          "Master chief#7460",
          "neurotell#9825",
          "Dwonks#8334",
          "I'll do my best#9945",
          "The Dark Soul#7970",
          "Daiigr#7964",
          "carlitos#1736",
          "Father#2152",
          "seafox2205#6878",
          "Emo Knightmare#5231",
          "LET ME IN!!!#0749",
          "soumar#3751",
          "existential.duck#5117",
          "schrimpf#2940",
          "rY4n#8975",
          "XxEXO_TROOPERxX#8603",
          "Deleted User#0000",
          "(G)raveyard #dear-god#0000",
          "Son#9990",
          "kima#1596",
          "KyroGaming#1987"
         ],
         "xaxis": "x",
         "y": [
          0.6502895355224609,
          0.6735149025917053,
          0.5396906137466431,
          0.5787374377250671,
          0.5653205513954163,
          0.5777658224105835,
          0.5642760992050171,
          0.49559327960014343,
          0.545477032661438,
          0.5189988017082214,
          0.5029627680778503,
          0.5854993462562561,
          0.5498201251029968,
          0.4335405230522156,
          0.5304914712905884,
          0.4522247016429901,
          0.5171822309494019,
          0.510790228843689,
          0.48486578464508057,
          0.5158912539482117,
          0.47356685996055603,
          0.506076455116272,
          0.48735183477401733,
          0.5197734236717224,
          0.4637547731399536,
          0.5234299302101135,
          0.467303067445755,
          0.28552624583244324,
          0.4479272961616516,
          0.472940593957901,
          0.4699859321117401,
          0.38829928636550903,
          0.4162943363189697
         ],
         "yaxis": "y"
        }
       ],
       "layout": {
        "barmode": "relative",
        "legend": {
         "title": {
          "text": "variable"
         },
         "tracegroupgap": 0
        },
        "template": {
         "data": {
          "bar": [
           {
            "error_x": {
             "color": "#f2f5fa"
            },
            "error_y": {
             "color": "#f2f5fa"
            },
            "marker": {
             "line": {
              "color": "rgb(17,17,17)",
              "width": 0.5
             },
             "pattern": {
              "fillmode": "overlay",
              "size": 10,
              "solidity": 0.2
             }
            },
            "type": "bar"
           }
          ],
          "barpolar": [
           {
            "marker": {
             "line": {
              "color": "rgb(17,17,17)",
              "width": 0.5
             },
             "pattern": {
              "fillmode": "overlay",
              "size": 10,
              "solidity": 0.2
             }
            },
            "type": "barpolar"
           }
          ],
          "carpet": [
           {
            "aaxis": {
             "endlinecolor": "#A2B1C6",
             "gridcolor": "#506784",
             "linecolor": "#506784",
             "minorgridcolor": "#506784",
             "startlinecolor": "#A2B1C6"
            },
            "baxis": {
             "endlinecolor": "#A2B1C6",
             "gridcolor": "#506784",
             "linecolor": "#506784",
             "minorgridcolor": "#506784",
             "startlinecolor": "#A2B1C6"
            },
            "type": "carpet"
           }
          ],
          "choropleth": [
           {
            "colorbar": {
             "outlinewidth": 0,
             "ticks": ""
            },
            "type": "choropleth"
           }
          ],
          "contour": [
           {
            "colorbar": {
             "outlinewidth": 0,
             "ticks": ""
            },
            "colorscale": [
             [
              0,
              "#0d0887"
             ],
             [
              0.1111111111111111,
              "#46039f"
             ],
             [
              0.2222222222222222,
              "#7201a8"
             ],
             [
              0.3333333333333333,
              "#9c179e"
             ],
             [
              0.4444444444444444,
              "#bd3786"
             ],
             [
              0.5555555555555556,
              "#d8576b"
             ],
             [
              0.6666666666666666,
              "#ed7953"
             ],
             [
              0.7777777777777778,
              "#fb9f3a"
             ],
             [
              0.8888888888888888,
              "#fdca26"
             ],
             [
              1,
              "#f0f921"
             ]
            ],
            "type": "contour"
           }
          ],
          "contourcarpet": [
           {
            "colorbar": {
             "outlinewidth": 0,
             "ticks": ""
            },
            "type": "contourcarpet"
           }
          ],
          "heatmap": [
           {
            "colorbar": {
             "outlinewidth": 0,
             "ticks": ""
            },
            "colorscale": [
             [
              0,
              "#0d0887"
             ],
             [
              0.1111111111111111,
              "#46039f"
             ],
             [
              0.2222222222222222,
              "#7201a8"
             ],
             [
              0.3333333333333333,
              "#9c179e"
             ],
             [
              0.4444444444444444,
              "#bd3786"
             ],
             [
              0.5555555555555556,
              "#d8576b"
             ],
             [
              0.6666666666666666,
              "#ed7953"
             ],
             [
              0.7777777777777778,
              "#fb9f3a"
             ],
             [
              0.8888888888888888,
              "#fdca26"
             ],
             [
              1,
              "#f0f921"
             ]
            ],
            "type": "heatmap"
           }
          ],
          "heatmapgl": [
           {
            "colorbar": {
             "outlinewidth": 0,
             "ticks": ""
            },
            "colorscale": [
             [
              0,
              "#0d0887"
             ],
             [
              0.1111111111111111,
              "#46039f"
             ],
             [
              0.2222222222222222,
              "#7201a8"
             ],
             [
              0.3333333333333333,
              "#9c179e"
             ],
             [
              0.4444444444444444,
              "#bd3786"
             ],
             [
              0.5555555555555556,
              "#d8576b"
             ],
             [
              0.6666666666666666,
              "#ed7953"
             ],
             [
              0.7777777777777778,
              "#fb9f3a"
             ],
             [
              0.8888888888888888,
              "#fdca26"
             ],
             [
              1,
              "#f0f921"
             ]
            ],
            "type": "heatmapgl"
           }
          ],
          "histogram": [
           {
            "marker": {
             "pattern": {
              "fillmode": "overlay",
              "size": 10,
              "solidity": 0.2
             }
            },
            "type": "histogram"
           }
          ],
          "histogram2d": [
           {
            "colorbar": {
             "outlinewidth": 0,
             "ticks": ""
            },
            "colorscale": [
             [
              0,
              "#0d0887"
             ],
             [
              0.1111111111111111,
              "#46039f"
             ],
             [
              0.2222222222222222,
              "#7201a8"
             ],
             [
              0.3333333333333333,
              "#9c179e"
             ],
             [
              0.4444444444444444,
              "#bd3786"
             ],
             [
              0.5555555555555556,
              "#d8576b"
             ],
             [
              0.6666666666666666,
              "#ed7953"
             ],
             [
              0.7777777777777778,
              "#fb9f3a"
             ],
             [
              0.8888888888888888,
              "#fdca26"
             ],
             [
              1,
              "#f0f921"
             ]
            ],
            "type": "histogram2d"
           }
          ],
          "histogram2dcontour": [
           {
            "colorbar": {
             "outlinewidth": 0,
             "ticks": ""
            },
            "colorscale": [
             [
              0,
              "#0d0887"
             ],
             [
              0.1111111111111111,
              "#46039f"
             ],
             [
              0.2222222222222222,
              "#7201a8"
             ],
             [
              0.3333333333333333,
              "#9c179e"
             ],
             [
              0.4444444444444444,
              "#bd3786"
             ],
             [
              0.5555555555555556,
              "#d8576b"
             ],
             [
              0.6666666666666666,
              "#ed7953"
             ],
             [
              0.7777777777777778,
              "#fb9f3a"
             ],
             [
              0.8888888888888888,
              "#fdca26"
             ],
             [
              1,
              "#f0f921"
             ]
            ],
            "type": "histogram2dcontour"
           }
          ],
          "mesh3d": [
           {
            "colorbar": {
             "outlinewidth": 0,
             "ticks": ""
            },
            "type": "mesh3d"
           }
          ],
          "parcoords": [
           {
            "line": {
             "colorbar": {
              "outlinewidth": 0,
              "ticks": ""
             }
            },
            "type": "parcoords"
           }
          ],
          "pie": [
           {
            "automargin": true,
            "type": "pie"
           }
          ],
          "scatter": [
           {
            "marker": {
             "line": {
              "color": "#283442"
             }
            },
            "type": "scatter"
           }
          ],
          "scatter3d": [
           {
            "line": {
             "colorbar": {
              "outlinewidth": 0,
              "ticks": ""
             }
            },
            "marker": {
             "colorbar": {
              "outlinewidth": 0,
              "ticks": ""
             }
            },
            "type": "scatter3d"
           }
          ],
          "scattercarpet": [
           {
            "marker": {
             "colorbar": {
              "outlinewidth": 0,
              "ticks": ""
             }
            },
            "type": "scattercarpet"
           }
          ],
          "scattergeo": [
           {
            "marker": {
             "colorbar": {
              "outlinewidth": 0,
              "ticks": ""
             }
            },
            "type": "scattergeo"
           }
          ],
          "scattergl": [
           {
            "marker": {
             "line": {
              "color": "#283442"
             }
            },
            "type": "scattergl"
           }
          ],
          "scattermapbox": [
           {
            "marker": {
             "colorbar": {
              "outlinewidth": 0,
              "ticks": ""
             }
            },
            "type": "scattermapbox"
           }
          ],
          "scatterpolar": [
           {
            "marker": {
             "colorbar": {
              "outlinewidth": 0,
              "ticks": ""
             }
            },
            "type": "scatterpolar"
           }
          ],
          "scatterpolargl": [
           {
            "marker": {
             "colorbar": {
              "outlinewidth": 0,
              "ticks": ""
             }
            },
            "type": "scatterpolargl"
           }
          ],
          "scatterternary": [
           {
            "marker": {
             "colorbar": {
              "outlinewidth": 0,
              "ticks": ""
             }
            },
            "type": "scatterternary"
           }
          ],
          "surface": [
           {
            "colorbar": {
             "outlinewidth": 0,
             "ticks": ""
            },
            "colorscale": [
             [
              0,
              "#0d0887"
             ],
             [
              0.1111111111111111,
              "#46039f"
             ],
             [
              0.2222222222222222,
              "#7201a8"
             ],
             [
              0.3333333333333333,
              "#9c179e"
             ],
             [
              0.4444444444444444,
              "#bd3786"
             ],
             [
              0.5555555555555556,
              "#d8576b"
             ],
             [
              0.6666666666666666,
              "#ed7953"
             ],
             [
              0.7777777777777778,
              "#fb9f3a"
             ],
             [
              0.8888888888888888,
              "#fdca26"
             ],
             [
              1,
              "#f0f921"
             ]
            ],
            "type": "surface"
           }
          ],
          "table": [
           {
            "cells": {
             "fill": {
              "color": "#506784"
             },
             "line": {
              "color": "rgb(17,17,17)"
             }
            },
            "header": {
             "fill": {
              "color": "#2a3f5f"
             },
             "line": {
              "color": "rgb(17,17,17)"
             }
            },
            "type": "table"
           }
          ]
         },
         "layout": {
          "annotationdefaults": {
           "arrowcolor": "#f2f5fa",
           "arrowhead": 0,
           "arrowwidth": 1
          },
          "autotypenumbers": "strict",
          "coloraxis": {
           "colorbar": {
            "outlinewidth": 0,
            "ticks": ""
           }
          },
          "colorscale": {
           "diverging": [
            [
             0,
             "#8e0152"
            ],
            [
             0.1,
             "#c51b7d"
            ],
            [
             0.2,
             "#de77ae"
            ],
            [
             0.3,
             "#f1b6da"
            ],
            [
             0.4,
             "#fde0ef"
            ],
            [
             0.5,
             "#f7f7f7"
            ],
            [
             0.6,
             "#e6f5d0"
            ],
            [
             0.7,
             "#b8e186"
            ],
            [
             0.8,
             "#7fbc41"
            ],
            [
             0.9,
             "#4d9221"
            ],
            [
             1,
             "#276419"
            ]
           ],
           "sequential": [
            [
             0,
             "#0d0887"
            ],
            [
             0.1111111111111111,
             "#46039f"
            ],
            [
             0.2222222222222222,
             "#7201a8"
            ],
            [
             0.3333333333333333,
             "#9c179e"
            ],
            [
             0.4444444444444444,
             "#bd3786"
            ],
            [
             0.5555555555555556,
             "#d8576b"
            ],
            [
             0.6666666666666666,
             "#ed7953"
            ],
            [
             0.7777777777777778,
             "#fb9f3a"
            ],
            [
             0.8888888888888888,
             "#fdca26"
            ],
            [
             1,
             "#f0f921"
            ]
           ],
           "sequentialminus": [
            [
             0,
             "#0d0887"
            ],
            [
             0.1111111111111111,
             "#46039f"
            ],
            [
             0.2222222222222222,
             "#7201a8"
            ],
            [
             0.3333333333333333,
             "#9c179e"
            ],
            [
             0.4444444444444444,
             "#bd3786"
            ],
            [
             0.5555555555555556,
             "#d8576b"
            ],
            [
             0.6666666666666666,
             "#ed7953"
            ],
            [
             0.7777777777777778,
             "#fb9f3a"
            ],
            [
             0.8888888888888888,
             "#fdca26"
            ],
            [
             1,
             "#f0f921"
            ]
           ]
          },
          "colorway": [
           "#636efa",
           "#EF553B",
           "#00cc96",
           "#ab63fa",
           "#FFA15A",
           "#19d3f3",
           "#FF6692",
           "#B6E880",
           "#FF97FF",
           "#FECB52"
          ],
          "font": {
           "color": "#f2f5fa"
          },
          "geo": {
           "bgcolor": "rgb(17,17,17)",
           "lakecolor": "rgb(17,17,17)",
           "landcolor": "rgb(17,17,17)",
           "showlakes": true,
           "showland": true,
           "subunitcolor": "#506784"
          },
          "hoverlabel": {
           "align": "left"
          },
          "hovermode": "closest",
          "mapbox": {
           "style": "dark"
          },
          "paper_bgcolor": "rgb(17,17,17)",
          "plot_bgcolor": "rgb(17,17,17)",
          "polar": {
           "angularaxis": {
            "gridcolor": "#506784",
            "linecolor": "#506784",
            "ticks": ""
           },
           "bgcolor": "rgb(17,17,17)",
           "radialaxis": {
            "gridcolor": "#506784",
            "linecolor": "#506784",
            "ticks": ""
           }
          },
          "scene": {
           "xaxis": {
            "backgroundcolor": "rgb(17,17,17)",
            "gridcolor": "#506784",
            "gridwidth": 2,
            "linecolor": "#506784",
            "showbackground": true,
            "ticks": "",
            "zerolinecolor": "#C8D4E3"
           },
           "yaxis": {
            "backgroundcolor": "rgb(17,17,17)",
            "gridcolor": "#506784",
            "gridwidth": 2,
            "linecolor": "#506784",
            "showbackground": true,
            "ticks": "",
            "zerolinecolor": "#C8D4E3"
           },
           "zaxis": {
            "backgroundcolor": "rgb(17,17,17)",
            "gridcolor": "#506784",
            "gridwidth": 2,
            "linecolor": "#506784",
            "showbackground": true,
            "ticks": "",
            "zerolinecolor": "#C8D4E3"
           }
          },
          "shapedefaults": {
           "line": {
            "color": "#f2f5fa"
           }
          },
          "sliderdefaults": {
           "bgcolor": "#C8D4E3",
           "bordercolor": "rgb(17,17,17)",
           "borderwidth": 1,
           "tickwidth": 0
          },
          "ternary": {
           "aaxis": {
            "gridcolor": "#506784",
            "linecolor": "#506784",
            "ticks": ""
           },
           "baxis": {
            "gridcolor": "#506784",
            "linecolor": "#506784",
            "ticks": ""
           },
           "bgcolor": "rgb(17,17,17)",
           "caxis": {
            "gridcolor": "#506784",
            "linecolor": "#506784",
            "ticks": ""
           }
          },
          "title": {
           "x": 0.05
          },
          "updatemenudefaults": {
           "bgcolor": "#506784",
           "borderwidth": 0
          },
          "xaxis": {
           "automargin": true,
           "gridcolor": "#283442",
           "linecolor": "#506784",
           "ticks": "",
           "title": {
            "standoff": 15
           },
           "zerolinecolor": "#283442",
           "zerolinewidth": 2
          },
          "yaxis": {
           "automargin": true,
           "gridcolor": "#283442",
           "linecolor": "#506784",
           "ticks": "",
           "title": {
            "standoff": 15
           },
           "zerolinecolor": "#283442",
           "zerolinewidth": 2
          }
         }
        },
        "title": {
         "text": "nutrality"
        },
        "xaxis": {
         "anchor": "y",
         "domain": [
          0,
          1
         ],
         "title": {
          "text": "Author"
         }
        },
        "yaxis": {
         "anchor": "x",
         "domain": [
          0,
          1
         ],
         "title": {
          "text": "value"
         }
        }
       }
      }
     },
     "metadata": {},
     "output_type": "display_data"
    }
   ],
   "source": [
    "import plotly.express as px\n",
    "df.sort_values(by=['Neutral'], inplace=False)\n",
    "fig = px.bar(df, x='Author', y=['Neutral'],template = \"plotly_dark\",color_discrete_sequence=px.colors.qualitative.Bold, title='nutrality')\n",
    "fig.show()"
   ]
  }
 ],
 "metadata": {
  "kernelspec": {
   "display_name": "Python 3.9.13 ('GPT')",
   "language": "python",
   "name": "python3"
  },
  "language_info": {
   "codemirror_mode": {
    "name": "ipython",
    "version": 3
   },
   "file_extension": ".py",
   "mimetype": "text/x-python",
   "name": "python",
   "nbconvert_exporter": "python",
   "pygments_lexer": "ipython3",
   "version": "3.9.13"
  },
  "orig_nbformat": 4,
  "vscode": {
   "interpreter": {
    "hash": "e00ed4f8b67d9274a21d175f605b2df2adb86c96e0b314477903e52dd170ebff"
   }
  }
 },
 "nbformat": 4,
 "nbformat_minor": 2
}
