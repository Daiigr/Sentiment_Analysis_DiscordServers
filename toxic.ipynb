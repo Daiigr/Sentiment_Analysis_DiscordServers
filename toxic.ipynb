{
 "cells": [
  {
   "cell_type": "code",
   "execution_count": 3,
   "metadata": {},
   "outputs": [],
   "source": [
    "from detoxify import Detoxify\n",
    "import pandas as pd\n",
    "from tqdm.notebook import trange, tqdm\n",
    "\n"
   ]
  },
  {
   "cell_type": "code",
   "execution_count": 4,
   "metadata": {},
   "outputs": [
    {
     "data": {
      "text/html": [
       "<div>\n",
       "<style scoped>\n",
       "    .dataframe tbody tr th:only-of-type {\n",
       "        vertical-align: middle;\n",
       "    }\n",
       "\n",
       "    .dataframe tbody tr th {\n",
       "        vertical-align: top;\n",
       "    }\n",
       "\n",
       "    .dataframe thead th {\n",
       "        text-align: right;\n",
       "    }\n",
       "</style>\n",
       "<table border=\"1\" class=\"dataframe\">\n",
       "  <thead>\n",
       "    <tr style=\"text-align: right;\">\n",
       "      <th></th>\n",
       "      <th>AuthorID</th>\n",
       "      <th>Author</th>\n",
       "      <th>Date</th>\n",
       "      <th>Content</th>\n",
       "      <th>Attachments</th>\n",
       "      <th>Reactions</th>\n",
       "    </tr>\n",
       "  </thead>\n",
       "  <tbody>\n",
       "    <tr>\n",
       "      <th>0</th>\n",
       "      <td>370963041141129226</td>\n",
       "      <td>Daiigr#7964</td>\n",
       "      <td>02-Jul-20 08:53 PM</td>\n",
       "      <td>who wants to play something?</td>\n",
       "      <td>NaN</td>\n",
       "      <td>NaN</td>\n",
       "    </tr>\n",
       "    <tr>\n",
       "      <th>1</th>\n",
       "      <td>607796009707372554</td>\n",
       "      <td>Emo Knightmare#5231</td>\n",
       "      <td>02-Jul-20 10:17 PM</td>\n",
       "      <td>Sorry fam no gaming after 8 PM courtesy of my ...</td>\n",
       "      <td>NaN</td>\n",
       "      <td>NaN</td>\n",
       "    </tr>\n",
       "    <tr>\n",
       "      <th>2</th>\n",
       "      <td>370963041141129226</td>\n",
       "      <td>Daiigr#7964</td>\n",
       "      <td>03-Jul-20 12:26 AM</td>\n",
       "      <td>Oof</td>\n",
       "      <td>NaN</td>\n",
       "      <td>NaN</td>\n",
       "    </tr>\n",
       "    <tr>\n",
       "      <th>3</th>\n",
       "      <td>537937247891357697</td>\n",
       "      <td>The Dark Soul#7970</td>\n",
       "      <td>03-Jul-20 12:31 AM</td>\n",
       "      <td>big sad</td>\n",
       "      <td>NaN</td>\n",
       "      <td>NaN</td>\n",
       "    </tr>\n",
       "    <tr>\n",
       "      <th>4</th>\n",
       "      <td>503221991717863424</td>\n",
       "      <td>LET ME IN!!!#0749</td>\n",
       "      <td>03-Jul-20 01:14 AM</td>\n",
       "      <td>If anyone here plays DBD and wants to have som...</td>\n",
       "      <td>NaN</td>\n",
       "      <td>NaN</td>\n",
       "    </tr>\n",
       "  </tbody>\n",
       "</table>\n",
       "</div>"
      ],
      "text/plain": [
       "             AuthorID               Author                Date  \\\n",
       "0  370963041141129226          Daiigr#7964  02-Jul-20 08:53 PM   \n",
       "1  607796009707372554  Emo Knightmare#5231  02-Jul-20 10:17 PM   \n",
       "2  370963041141129226          Daiigr#7964  03-Jul-20 12:26 AM   \n",
       "3  537937247891357697   The Dark Soul#7970  03-Jul-20 12:31 AM   \n",
       "4  503221991717863424    LET ME IN!!!#0749  03-Jul-20 01:14 AM   \n",
       "\n",
       "                                             Content Attachments Reactions  \n",
       "0                       who wants to play something?         NaN       NaN  \n",
       "1  Sorry fam no gaming after 8 PM courtesy of my ...         NaN       NaN  \n",
       "2                                                Oof         NaN       NaN  \n",
       "3                                            big sad         NaN       NaN  \n",
       "4  If anyone here plays DBD and wants to have som...         NaN       NaN  "
      ]
     },
     "execution_count": 4,
     "metadata": {},
     "output_type": "execute_result"
    }
   ],
   "source": [
    "data = pd.read_csv(\"DiscordData.csv\")\n",
    "data.head()"
   ]
  },
  {
   "cell_type": "code",
   "execution_count": 5,
   "metadata": {},
   "outputs": [
    {
     "name": "stdout",
     "output_type": "stream",
     "text": [
      "['Daiigr#7964' 'Emo Knightmare#5231' 'The Dark Soul#7970'\n",
      " 'LET ME IN!!!#0749' 'PETTAPLAY#7395' 'kima#1596' 'haani_05#5594'\n",
      " 'Deleted User#0000' 'existential.duck#5117' 'Eeugh#0033'\n",
      " 'Master chief#7460' 'KyroGaming#1987' 'soumar#3751' 'Iann#4893'\n",
      " 'Haruka Sakura#2591' 'schrimpf#2940' 'Dwonks#8334' 'hagha#2602'\n",
      " 'carlitos#1736' 'rY4n#8975' 'seafox2205#6878' 'Father#2152'\n",
      " 'XxEXO_TROOPERxX#8603' \"I'll do my best#9945\" 'Peachymango11#3226'\n",
      " 'lana#8237' 'sofia719462#2756' '(G)raveyard #dear-god#0000' 'Son#9990'\n",
      " 'Lord Lazinga#7942' 'neurotell#9825' 'i have name#0161' 'Caitlin#6324']\n",
      "187600\n",
      "184938\n"
     ]
    }
   ],
   "source": [
    "cleaned_data = data\n",
    "\n",
    "cleaned_data = cleaned_data.drop(cleaned_data[cleaned_data['Author'] == 'Rythm#3722'].index)\n",
    "\n",
    "cleaned_data = cleaned_data.drop(cleaned_data[cleaned_data['Author'] == 'Loli Police#5803'].index)\n",
    "\n",
    "cleaned_data = cleaned_data.drop(cleaned_data[cleaned_data['Author'] == 'Cool Frog Facts #frogs#0000'].index)\n",
    "\n",
    "cleaned_data = cleaned_data.drop(cleaned_data[cleaned_data['Author'] == 'Minecaft Bot#1886'].index)\n",
    "\n",
    "cleaned_data = cleaned_data.drop(cleaned_data[cleaned_data['Author'] == 'Dank Memer#5192' ].index)\n",
    "\n",
    "cleaned_data = cleaned_data.drop(cleaned_data[cleaned_data['Author'] == 'Simple Poll#9879' ].index)\n",
    "\n",
    "cleaned_data = cleaned_data.drop(cleaned_data[cleaned_data['Author'] == 'UnoBot#6134' ].index)\n",
    "\n",
    "cleaned_data = cleaned_data.drop(cleaned_data[cleaned_data['Author'] == 'MEE6#4876' ].index)\n",
    "\n",
    "cleaned_data = cleaned_data.drop(cleaned_data[cleaned_data['Author'] == 'Daiigr AI#4911' ].index)\n",
    "\n",
    "\n",
    "print(cleaned_data['Author'].unique())\n",
    "\n",
    "print(len(data))\n",
    "print(len(cleaned_data))"
   ]
  },
  {
   "cell_type": "code",
   "execution_count": 6,
   "metadata": {},
   "outputs": [],
   "source": [
    "results = Detoxify('original').predict('example text')\n"
   ]
  },
  {
   "cell_type": "code",
   "execution_count": 7,
   "metadata": {},
   "outputs": [
    {
     "name": "stdout",
     "output_type": "stream",
     "text": [
      "{'toxicity': 0.0006478306, 'severe_toxicity': 0.000120983976, 'obscene': 0.00018694326, 'threat': 0.00011624079, 'insult': 0.00018111907, 'identity_attack': 0.00014001901}\n"
     ]
    }
   ],
   "source": [
    "print(results)"
   ]
  },
  {
   "cell_type": "code",
   "execution_count": 10,
   "metadata": {},
   "outputs": [
    {
     "name": "stderr",
     "output_type": "stream",
     "text": [
      "100%|██████████| 5/5 [00:27<00:00,  5.56s/it]\n",
      "  0%|          | 0/33 [00:27<?, ?it/s]\n"
     ]
    },
    {
     "ename": "TypeError",
     "evalue": "'float' object is not subscriptable",
     "output_type": "error",
     "traceback": [
      "\u001b[0;31m---------------------------------------------------------------------------\u001b[0m",
      "\u001b[0;31mTypeError\u001b[0m                                 Traceback (most recent call last)",
      "\u001b[1;32m/Users/daniel/Desktop/Sentiment_Analysis_DiscordServers/toxic.ipynb Cell 6\u001b[0m in \u001b[0;36m<cell line: 4>\u001b[0;34m()\u001b[0m\n\u001b[1;32m     <a href='vscode-notebook-cell:/Users/daniel/Desktop/Sentiment_Analysis_DiscordServers/toxic.ipynb#W4sZmlsZQ%3D%3D?line=33'>34</a>\u001b[0m         \u001b[39mpass\u001b[39;00m\n\u001b[1;32m     <a href='vscode-notebook-cell:/Users/daniel/Desktop/Sentiment_Analysis_DiscordServers/toxic.ipynb#W4sZmlsZQ%3D%3D?line=35'>36</a>\u001b[0m     avgScore \u001b[39m=\u001b[39m totalScore\u001b[39m/\u001b[39m\u001b[39mlen\u001b[39m(results_arr)\n\u001b[0;32m---> <a href='vscode-notebook-cell:/Users/daniel/Desktop/Sentiment_Analysis_DiscordServers/toxic.ipynb#W4sZmlsZQ%3D%3D?line=36'>37</a>\u001b[0m     avgUserScore\u001b[39m.\u001b[39mappend([Author,avgScore[\u001b[39m0\u001b[39;49m],avgScore[\u001b[39m1\u001b[39m],avgScore[\u001b[39m2\u001b[39m],\u001b[39mlen\u001b[39m(results_arr)])\n\u001b[1;32m     <a href='vscode-notebook-cell:/Users/daniel/Desktop/Sentiment_Analysis_DiscordServers/toxic.ipynb#W4sZmlsZQ%3D%3D?line=37'>38</a>\u001b[0m \u001b[39m#print array of avg user scores for all users\u001b[39;00m\n\u001b[1;32m     <a href='vscode-notebook-cell:/Users/daniel/Desktop/Sentiment_Analysis_DiscordServers/toxic.ipynb#W4sZmlsZQ%3D%3D?line=38'>39</a>\u001b[0m \u001b[39mprint\u001b[39m(avgUserScore)\n",
      "\u001b[0;31mTypeError\u001b[0m: 'float' object is not subscriptable"
     ]
    }
   ],
   "source": [
    "NumberOfMessages = []\n",
    "avgUserScore = []\n",
    "    \n",
    "for Author in tqdm(cleaned_data['Author'].unique()):\n",
    "    \n",
    "    usermessage = cleaned_data[cleaned_data['Author'] == Author ]\n",
    "    try:\n",
    "     usermessage =  usermessage.sample(n=5)\n",
    "    except:\n",
    "        usermessage = usermessage\n",
    "    #convert from dataframe to array of only the content of the message   \n",
    "    UserContent = usermessage['Content'].copy()\n",
    "    UserContent = UserContent.values\n",
    "    #make sure all objects are strings and not any other type\n",
    "    StrUserContent = []\n",
    "    for line in UserContent:\n",
    "        StrUserContent.append(str(line))\n",
    "\n",
    "    results_arr = []\n",
    "    for currentline in tqdm(StrUserContent):\n",
    "        try:\n",
    "            results = Detoxify('original').predict(currentline)\n",
    "            results_arr.append(results)\n",
    "        except:\n",
    "            print(\"tensor error\")\n",
    "    \n",
    "    totalScore = 0\n",
    "    avgScore = 0\n",
    "    #calcuate the average between the list of scores calulated for that user\n",
    "    try:\n",
    "        for i in results_arr:\n",
    "            totalScore += i   \n",
    "    except:\n",
    "        pass\n",
    "\n",
    "    avgScore = totalScore/len(results_arr)\n",
    "    \n",
    "    avgUserScore.append([Author,avgScore[0],avgScore[1],avgScore[2],len(results_arr)])\n",
    "#print array of avg user scores for all users\n",
    "print(avgUserScore)"
   ]
  }
 ],
 "metadata": {
  "kernelspec": {
   "display_name": "Python 3.9.13 ('GPT')",
   "language": "python",
   "name": "python3"
  },
  "language_info": {
   "codemirror_mode": {
    "name": "ipython",
    "version": 3
   },
   "file_extension": ".py",
   "mimetype": "text/x-python",
   "name": "python",
   "nbconvert_exporter": "python",
   "pygments_lexer": "ipython3",
   "version": "3.9.13"
  },
  "orig_nbformat": 4,
  "vscode": {
   "interpreter": {
    "hash": "e00ed4f8b67d9274a21d175f605b2df2adb86c96e0b314477903e52dd170ebff"
   }
  }
 },
 "nbformat": 4,
 "nbformat_minor": 2
}
